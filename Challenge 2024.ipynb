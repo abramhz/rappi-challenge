{
 "cells": [
  {
   "cell_type": "markdown",
   "id": "dc43b9b4",
   "metadata": {},
   "source": [
    "En este caso de negocio esperamos que nos demuestres tus habilidades para tomar\n",
    "decisiones, procesar los datos, desarrollar y productivizar modelos, y presentar tus\n",
    "resultados. Imagina que eres parte del equipo de DS y debes ayudar al negocio a\n",
    "identificar usuarios fraudulentos siguiendo las indicaciones descritas a continuación:\n",
    "1. Descarga el dataset adjunto a este correo electrónico\n",
    "2. Explora los datos y presenta un análisis detallado de ellos\n",
    "3. Categoriza a los clientes presentes en el dataset según consideres adecuado\n",
    "4. Desarrolla un modelo capaz de detectar defraudadores a partir de la información disponible\n",
    "5. Productiviza el modelo que desarrolles en tu local o en la nube\n",
    "6. Crea una presentación para mostrar tus resultados\n",
    "7. Carga tu caso de negocio en un repositorio con instrucciones para reproducirlo"
   ]
  },
  {
   "cell_type": "code",
   "execution_count": 1,
   "id": "37549b26",
   "metadata": {},
   "outputs": [],
   "source": [
    "import pandas as pd\n",
    "import ast "
   ]
  },
  {
   "cell_type": "code",
   "execution_count": 2,
   "id": "11071b24",
   "metadata": {
    "scrolled": true
   },
   "outputs": [],
   "source": [
    "df_orig=pd.read_csv(\"ds_challenge_data_2024.csv\",  encoding='UTF-16')\n",
    "df=df_orig.copy()"
   ]
  },
  {
   "cell_type": "markdown",
   "id": "44bea764",
   "metadata": {},
   "source": [
    "# Análisis de datos"
   ]
  },
  {
   "cell_type": "code",
   "execution_count": 3,
   "id": "281a9d08",
   "metadata": {},
   "outputs": [
    {
     "data": {
      "text/html": [
       "<div>\n",
       "<style scoped>\n",
       "    .dataframe tbody tr th:only-of-type {\n",
       "        vertical-align: middle;\n",
       "    }\n",
       "\n",
       "    .dataframe tbody tr th {\n",
       "        vertical-align: top;\n",
       "    }\n",
       "\n",
       "    .dataframe thead th {\n",
       "        text-align: right;\n",
       "    }\n",
       "</style>\n",
       "<table border=\"1\" class=\"dataframe\">\n",
       "  <thead>\n",
       "    <tr style=\"text-align: right;\">\n",
       "      <th></th>\n",
       "      <th>transaction_id</th>\n",
       "      <th>user_id</th>\n",
       "      <th>género</th>\n",
       "      <th>linea_tc</th>\n",
       "      <th>interes_tc</th>\n",
       "      <th>monto</th>\n",
       "      <th>fecha</th>\n",
       "      <th>hora</th>\n",
       "      <th>dispositivo</th>\n",
       "      <th>establecimiento</th>\n",
       "      <th>ciudad</th>\n",
       "      <th>status_txn</th>\n",
       "      <th>is_prime</th>\n",
       "      <th>dcto</th>\n",
       "      <th>cashback</th>\n",
       "      <th>fraude</th>\n",
       "    </tr>\n",
       "  </thead>\n",
       "  <tbody>\n",
       "    <tr>\n",
       "      <th>0</th>\n",
       "      <td>1</td>\n",
       "      <td>573</td>\n",
       "      <td>M</td>\n",
       "      <td>87000</td>\n",
       "      <td>56</td>\n",
       "      <td>581.03</td>\n",
       "      <td>02/01/20</td>\n",
       "      <td>0</td>\n",
       "      <td>{'año': 2019, 'marca': 'Apple', 'proveedor': '...</td>\n",
       "      <td>Farmacia</td>\n",
       "      <td>Ciudad de México</td>\n",
       "      <td>Aceptada</td>\n",
       "      <td>False</td>\n",
       "      <td>0.0</td>\n",
       "      <td>17.43</td>\n",
       "      <td>False</td>\n",
       "    </tr>\n",
       "    <tr>\n",
       "      <th>1</th>\n",
       "      <td>2</td>\n",
       "      <td>737</td>\n",
       "      <td>F</td>\n",
       "      <td>34000</td>\n",
       "      <td>51</td>\n",
       "      <td>421.73</td>\n",
       "      <td>02/01/20</td>\n",
       "      <td>0</td>\n",
       "      <td>{'año': 2021, 'marca': 'Huawei', 'proveedor': ...</td>\n",
       "      <td>Tienda departamental</td>\n",
       "      <td>Cancún</td>\n",
       "      <td>Aceptada</td>\n",
       "      <td>False</td>\n",
       "      <td>0.0</td>\n",
       "      <td>12.65</td>\n",
       "      <td>False</td>\n",
       "    </tr>\n",
       "    <tr>\n",
       "      <th>2</th>\n",
       "      <td>3</td>\n",
       "      <td>887</td>\n",
       "      <td>F</td>\n",
       "      <td>52000</td>\n",
       "      <td>38</td>\n",
       "      <td>399.55</td>\n",
       "      <td>02/01/20</td>\n",
       "      <td>0</td>\n",
       "      <td>{'año': 2017, 'marca': 'Apple', 'proveedor': '...</td>\n",
       "      <td>Farmacia</td>\n",
       "      <td>Tijuana</td>\n",
       "      <td>En proceso</td>\n",
       "      <td>False</td>\n",
       "      <td>0.0</td>\n",
       "      <td>11.99</td>\n",
       "      <td>False</td>\n",
       "    </tr>\n",
       "    <tr>\n",
       "      <th>3</th>\n",
       "      <td>4</td>\n",
       "      <td>1304</td>\n",
       "      <td>M</td>\n",
       "      <td>67000</td>\n",
       "      <td>60</td>\n",
       "      <td>828.01</td>\n",
       "      <td>02/01/20</td>\n",
       "      <td>0</td>\n",
       "      <td>{'año': 2019, 'marca': 'Samsung', 'proveedor':...</td>\n",
       "      <td>Tienda departamental</td>\n",
       "      <td>Ciudad de México</td>\n",
       "      <td>En proceso</td>\n",
       "      <td>False</td>\n",
       "      <td>0.0</td>\n",
       "      <td>24.84</td>\n",
       "      <td>False</td>\n",
       "    </tr>\n",
       "    <tr>\n",
       "      <th>4</th>\n",
       "      <td>5</td>\n",
       "      <td>1361</td>\n",
       "      <td>F</td>\n",
       "      <td>28000</td>\n",
       "      <td>52</td>\n",
       "      <td>886.04</td>\n",
       "      <td>02/01/20</td>\n",
       "      <td>0</td>\n",
       "      <td>{'año': 2021, 'marca': 'Samsung', 'proveedor':...</td>\n",
       "      <td>Supermercado</td>\n",
       "      <td>Cancún</td>\n",
       "      <td>Aceptada</td>\n",
       "      <td>False</td>\n",
       "      <td>0.0</td>\n",
       "      <td>26.58</td>\n",
       "      <td>False</td>\n",
       "    </tr>\n",
       "  </tbody>\n",
       "</table>\n",
       "</div>"
      ],
      "text/plain": [
       "   transaction_id  user_id género  linea_tc  interes_tc   monto     fecha  \\\n",
       "0               1      573      M     87000          56  581.03  02/01/20   \n",
       "1               2      737      F     34000          51  421.73  02/01/20   \n",
       "2               3      887      F     52000          38  399.55  02/01/20   \n",
       "3               4     1304      M     67000          60  828.01  02/01/20   \n",
       "4               5     1361      F     28000          52  886.04  02/01/20   \n",
       "\n",
       "   hora                                        dispositivo  \\\n",
       "0     0  {'año': 2019, 'marca': 'Apple', 'proveedor': '...   \n",
       "1     0  {'año': 2021, 'marca': 'Huawei', 'proveedor': ...   \n",
       "2     0  {'año': 2017, 'marca': 'Apple', 'proveedor': '...   \n",
       "3     0  {'año': 2019, 'marca': 'Samsung', 'proveedor':...   \n",
       "4     0  {'año': 2021, 'marca': 'Samsung', 'proveedor':...   \n",
       "\n",
       "        establecimiento            ciudad  status_txn  is_prime  dcto  \\\n",
       "0              Farmacia  Ciudad de México    Aceptada     False   0.0   \n",
       "1  Tienda departamental            Cancún    Aceptada     False   0.0   \n",
       "2              Farmacia           Tijuana  En proceso     False   0.0   \n",
       "3  Tienda departamental  Ciudad de México  En proceso     False   0.0   \n",
       "4          Supermercado            Cancún    Aceptada     False   0.0   \n",
       "\n",
       "   cashback  fraude  \n",
       "0     17.43   False  \n",
       "1     12.65   False  \n",
       "2     11.99   False  \n",
       "3     24.84   False  \n",
       "4     26.58   False  "
      ]
     },
     "metadata": {},
     "output_type": "display_data"
    },
    {
     "name": "stdout",
     "output_type": "stream",
     "text": [
      "(26975, 16)\n"
     ]
    }
   ],
   "source": [
    "display(df.head())\n",
    "print(df.shape)"
   ]
  },
  {
   "cell_type": "code",
   "execution_count": 7,
   "id": "9154ffc7",
   "metadata": {},
   "outputs": [
    {
     "data": {
      "text/plain": [
       "\"{'año': 2019, 'marca': 'Apple', 'proveedor': 'Telcel'}\""
      ]
     },
     "execution_count": 7,
     "metadata": {},
     "output_type": "execute_result"
    }
   ],
   "source": [
    "df.dispositivo[0]"
   ]
  },
  {
   "cell_type": "code",
   "execution_count": 4,
   "id": "b42934e5",
   "metadata": {},
   "outputs": [],
   "source": [
    "anio=[]\n",
    "marca=[]\n",
    "proveedor=[]\n",
    "for i in range(len(df)):\n",
    "    str=df.dispositivo[i]\n",
    "    dic = ast.literal_eval(str) \n",
    "    anio += [dic['año']]\n",
    "    marca += [dic['marca']]\n",
    "    proveedor += [dic['proveedor']]"
   ]
  },
  {
   "cell_type": "code",
   "execution_count": 5,
   "id": "0cc46926",
   "metadata": {},
   "outputs": [],
   "source": [
    "df[\"Disp_Año\"]=anio\n",
    "df[\"Disp_Marca\"]=marca\n",
    "df[\"Disp_Proveedor\"]=proveedor"
   ]
  },
  {
   "cell_type": "code",
   "execution_count": 6,
   "id": "ea9bb470",
   "metadata": {},
   "outputs": [
    {
     "data": {
      "text/html": [
       "<div>\n",
       "<style scoped>\n",
       "    .dataframe tbody tr th:only-of-type {\n",
       "        vertical-align: middle;\n",
       "    }\n",
       "\n",
       "    .dataframe tbody tr th {\n",
       "        vertical-align: top;\n",
       "    }\n",
       "\n",
       "    .dataframe thead th {\n",
       "        text-align: right;\n",
       "    }\n",
       "</style>\n",
       "<table border=\"1\" class=\"dataframe\">\n",
       "  <thead>\n",
       "    <tr style=\"text-align: right;\">\n",
       "      <th></th>\n",
       "      <th>transaction_id</th>\n",
       "      <th>user_id</th>\n",
       "      <th>género</th>\n",
       "      <th>linea_tc</th>\n",
       "      <th>interes_tc</th>\n",
       "      <th>monto</th>\n",
       "      <th>fecha</th>\n",
       "      <th>hora</th>\n",
       "      <th>dispositivo</th>\n",
       "      <th>establecimiento</th>\n",
       "      <th>ciudad</th>\n",
       "      <th>status_txn</th>\n",
       "      <th>is_prime</th>\n",
       "      <th>dcto</th>\n",
       "      <th>cashback</th>\n",
       "      <th>fraude</th>\n",
       "      <th>Disp_Año</th>\n",
       "      <th>Disp_Marca</th>\n",
       "      <th>Disp_Proveedor</th>\n",
       "    </tr>\n",
       "  </thead>\n",
       "  <tbody>\n",
       "    <tr>\n",
       "      <th>0</th>\n",
       "      <td>1</td>\n",
       "      <td>573</td>\n",
       "      <td>M</td>\n",
       "      <td>87000</td>\n",
       "      <td>56</td>\n",
       "      <td>581.03</td>\n",
       "      <td>02/01/20</td>\n",
       "      <td>0</td>\n",
       "      <td>{'año': 2019, 'marca': 'Apple', 'proveedor': '...</td>\n",
       "      <td>Farmacia</td>\n",
       "      <td>Ciudad de México</td>\n",
       "      <td>Aceptada</td>\n",
       "      <td>False</td>\n",
       "      <td>0.0</td>\n",
       "      <td>17.43</td>\n",
       "      <td>False</td>\n",
       "      <td>2019</td>\n",
       "      <td>Apple</td>\n",
       "      <td>Telcel</td>\n",
       "    </tr>\n",
       "    <tr>\n",
       "      <th>1</th>\n",
       "      <td>2</td>\n",
       "      <td>737</td>\n",
       "      <td>F</td>\n",
       "      <td>34000</td>\n",
       "      <td>51</td>\n",
       "      <td>421.73</td>\n",
       "      <td>02/01/20</td>\n",
       "      <td>0</td>\n",
       "      <td>{'año': 2021, 'marca': 'Huawei', 'proveedor': ...</td>\n",
       "      <td>Tienda departamental</td>\n",
       "      <td>Cancún</td>\n",
       "      <td>Aceptada</td>\n",
       "      <td>False</td>\n",
       "      <td>0.0</td>\n",
       "      <td>12.65</td>\n",
       "      <td>False</td>\n",
       "      <td>2021</td>\n",
       "      <td>Huawei</td>\n",
       "      <td>ATT</td>\n",
       "    </tr>\n",
       "  </tbody>\n",
       "</table>\n",
       "</div>"
      ],
      "text/plain": [
       "   transaction_id  user_id género  linea_tc  interes_tc   monto     fecha  \\\n",
       "0               1      573      M     87000          56  581.03  02/01/20   \n",
       "1               2      737      F     34000          51  421.73  02/01/20   \n",
       "\n",
       "   hora                                        dispositivo  \\\n",
       "0     0  {'año': 2019, 'marca': 'Apple', 'proveedor': '...   \n",
       "1     0  {'año': 2021, 'marca': 'Huawei', 'proveedor': ...   \n",
       "\n",
       "        establecimiento            ciudad status_txn  is_prime  dcto  \\\n",
       "0              Farmacia  Ciudad de México   Aceptada     False   0.0   \n",
       "1  Tienda departamental            Cancún   Aceptada     False   0.0   \n",
       "\n",
       "   cashback  fraude  Disp_Año Disp_Marca Disp_Proveedor  \n",
       "0     17.43   False      2019      Apple         Telcel  \n",
       "1     12.65   False      2021     Huawei            ATT  "
      ]
     },
     "metadata": {},
     "output_type": "display_data"
    },
    {
     "name": "stdout",
     "output_type": "stream",
     "text": [
      "(26975, 19)\n"
     ]
    }
   ],
   "source": [
    "display(df.head(2))\n",
    "print(df.shape)"
   ]
  },
  {
   "cell_type": "markdown",
   "id": "21fd1fdd",
   "metadata": {},
   "source": [
    "## Variable Objetivo"
   ]
  },
  {
   "cell_type": "code",
   "execution_count": 8,
   "id": "3673733b",
   "metadata": {},
   "outputs": [
    {
     "name": "stdout",
     "output_type": "stream",
     "text": [
      "fraude\n",
      "False    26165\n",
      "True       810\n",
      "Name: count, dtype: int64\n",
      "\n",
      "\n",
      "fraude\n",
      "False    0.969972\n",
      "True     0.030028\n",
      "Name: proportion, dtype: float64\n"
     ]
    }
   ],
   "source": [
    "print(df.fraude.value_counts())\n",
    "print(\"\\n\")\n",
    "print(df.fraude.value_counts(1))"
   ]
  },
  {
   "cell_type": "markdown",
   "id": "2055ae7d",
   "metadata": {},
   "source": [
    "Lo que primero se puede observar es un desbalance entre las clases, dado que cerca del 97% de las transacciones no son fraude y solo 3% si lo son. En el modelado se hará un tratamiento al respecto de estos datos.\n",
    "\n",
    "Por el momentos se procederá analizar las variables de la base para encontrar cuales son las que nos podrían dar mayor información respecto a las características de las transacciones fraudulentas."
   ]
  },
  {
   "cell_type": "code",
   "execution_count": 9,
   "id": "96bb6baf",
   "metadata": {},
   "outputs": [
    {
     "data": {
      "text/html": [
       "<div>\n",
       "<style scoped>\n",
       "    .dataframe tbody tr th:only-of-type {\n",
       "        vertical-align: middle;\n",
       "    }\n",
       "\n",
       "    .dataframe tbody tr th {\n",
       "        vertical-align: top;\n",
       "    }\n",
       "\n",
       "    .dataframe thead th {\n",
       "        text-align: right;\n",
       "    }\n",
       "</style>\n",
       "<table border=\"1\" class=\"dataframe\">\n",
       "  <thead>\n",
       "    <tr style=\"text-align: right;\">\n",
       "      <th></th>\n",
       "      <th>transaction_id</th>\n",
       "      <th>user_id</th>\n",
       "      <th>género</th>\n",
       "      <th>linea_tc</th>\n",
       "      <th>interes_tc</th>\n",
       "      <th>monto</th>\n",
       "      <th>fecha</th>\n",
       "      <th>hora</th>\n",
       "      <th>dispositivo</th>\n",
       "      <th>establecimiento</th>\n",
       "      <th>ciudad</th>\n",
       "      <th>status_txn</th>\n",
       "      <th>is_prime</th>\n",
       "      <th>dcto</th>\n",
       "      <th>cashback</th>\n",
       "      <th>fraude</th>\n",
       "      <th>Disp_Año</th>\n",
       "      <th>Disp_Marca</th>\n",
       "      <th>Disp_Proveedor</th>\n",
       "    </tr>\n",
       "  </thead>\n",
       "  <tbody>\n",
       "    <tr>\n",
       "      <th>28</th>\n",
       "      <td>29</td>\n",
       "      <td>387</td>\n",
       "      <td>M</td>\n",
       "      <td>32000</td>\n",
       "      <td>40</td>\n",
       "      <td>752.49</td>\n",
       "      <td>02/01/20</td>\n",
       "      <td>2</td>\n",
       "      <td>{'año': 2015, 'marca': 'Huawei', 'proveedor': ...</td>\n",
       "      <td>Tienda departamental</td>\n",
       "      <td>Monterrey</td>\n",
       "      <td>Aceptada</td>\n",
       "      <td>False</td>\n",
       "      <td>0.00</td>\n",
       "      <td>22.57</td>\n",
       "      <td>True</td>\n",
       "      <td>2015</td>\n",
       "      <td>Huawei</td>\n",
       "      <td>Telcel</td>\n",
       "    </tr>\n",
       "    <tr>\n",
       "      <th>58</th>\n",
       "      <td>59</td>\n",
       "      <td>309</td>\n",
       "      <td>F</td>\n",
       "      <td>74000</td>\n",
       "      <td>32</td>\n",
       "      <td>395.41</td>\n",
       "      <td>02/01/20</td>\n",
       "      <td>4</td>\n",
       "      <td>{'año': 2017, 'marca': 'Apple', 'proveedor': '...</td>\n",
       "      <td>Compra en línea</td>\n",
       "      <td>Toluca</td>\n",
       "      <td>Aceptada</td>\n",
       "      <td>False</td>\n",
       "      <td>19.77</td>\n",
       "      <td>11.86</td>\n",
       "      <td>True</td>\n",
       "      <td>2017</td>\n",
       "      <td>Apple</td>\n",
       "      <td>ATT</td>\n",
       "    </tr>\n",
       "  </tbody>\n",
       "</table>\n",
       "</div>"
      ],
      "text/plain": [
       "    transaction_id  user_id género  linea_tc  interes_tc   monto     fecha  \\\n",
       "28              29      387      M     32000          40  752.49  02/01/20   \n",
       "58              59      309      F     74000          32  395.41  02/01/20   \n",
       "\n",
       "    hora                                        dispositivo  \\\n",
       "28     2  {'año': 2015, 'marca': 'Huawei', 'proveedor': ...   \n",
       "58     4  {'año': 2017, 'marca': 'Apple', 'proveedor': '...   \n",
       "\n",
       "         establecimiento     ciudad status_txn  is_prime   dcto  cashback  \\\n",
       "28  Tienda departamental  Monterrey   Aceptada     False   0.00     22.57   \n",
       "58       Compra en línea     Toluca   Aceptada     False  19.77     11.86   \n",
       "\n",
       "    fraude  Disp_Año Disp_Marca Disp_Proveedor  \n",
       "28    True      2015     Huawei         Telcel  \n",
       "58    True      2017      Apple            ATT  "
      ]
     },
     "metadata": {},
     "output_type": "display_data"
    },
    {
     "name": "stdout",
     "output_type": "stream",
     "text": [
      "(810, 19)\n"
     ]
    },
    {
     "data": {
      "text/html": [
       "<div>\n",
       "<style scoped>\n",
       "    .dataframe tbody tr th:only-of-type {\n",
       "        vertical-align: middle;\n",
       "    }\n",
       "\n",
       "    .dataframe tbody tr th {\n",
       "        vertical-align: top;\n",
       "    }\n",
       "\n",
       "    .dataframe thead th {\n",
       "        text-align: right;\n",
       "    }\n",
       "</style>\n",
       "<table border=\"1\" class=\"dataframe\">\n",
       "  <thead>\n",
       "    <tr style=\"text-align: right;\">\n",
       "      <th></th>\n",
       "      <th>transaction_id</th>\n",
       "      <th>user_id</th>\n",
       "      <th>género</th>\n",
       "      <th>linea_tc</th>\n",
       "      <th>interes_tc</th>\n",
       "      <th>monto</th>\n",
       "      <th>fecha</th>\n",
       "      <th>hora</th>\n",
       "      <th>dispositivo</th>\n",
       "      <th>establecimiento</th>\n",
       "      <th>ciudad</th>\n",
       "      <th>status_txn</th>\n",
       "      <th>is_prime</th>\n",
       "      <th>dcto</th>\n",
       "      <th>cashback</th>\n",
       "      <th>fraude</th>\n",
       "      <th>Disp_Año</th>\n",
       "      <th>Disp_Marca</th>\n",
       "      <th>Disp_Proveedor</th>\n",
       "    </tr>\n",
       "  </thead>\n",
       "  <tbody>\n",
       "    <tr>\n",
       "      <th>0</th>\n",
       "      <td>1</td>\n",
       "      <td>573</td>\n",
       "      <td>M</td>\n",
       "      <td>87000</td>\n",
       "      <td>56</td>\n",
       "      <td>581.03</td>\n",
       "      <td>02/01/20</td>\n",
       "      <td>0</td>\n",
       "      <td>{'año': 2019, 'marca': 'Apple', 'proveedor': '...</td>\n",
       "      <td>Farmacia</td>\n",
       "      <td>Ciudad de México</td>\n",
       "      <td>Aceptada</td>\n",
       "      <td>False</td>\n",
       "      <td>0.0</td>\n",
       "      <td>17.43</td>\n",
       "      <td>False</td>\n",
       "      <td>2019</td>\n",
       "      <td>Apple</td>\n",
       "      <td>Telcel</td>\n",
       "    </tr>\n",
       "    <tr>\n",
       "      <th>1</th>\n",
       "      <td>2</td>\n",
       "      <td>737</td>\n",
       "      <td>F</td>\n",
       "      <td>34000</td>\n",
       "      <td>51</td>\n",
       "      <td>421.73</td>\n",
       "      <td>02/01/20</td>\n",
       "      <td>0</td>\n",
       "      <td>{'año': 2021, 'marca': 'Huawei', 'proveedor': ...</td>\n",
       "      <td>Tienda departamental</td>\n",
       "      <td>Cancún</td>\n",
       "      <td>Aceptada</td>\n",
       "      <td>False</td>\n",
       "      <td>0.0</td>\n",
       "      <td>12.65</td>\n",
       "      <td>False</td>\n",
       "      <td>2021</td>\n",
       "      <td>Huawei</td>\n",
       "      <td>ATT</td>\n",
       "    </tr>\n",
       "  </tbody>\n",
       "</table>\n",
       "</div>"
      ],
      "text/plain": [
       "   transaction_id  user_id género  linea_tc  interes_tc   monto     fecha  \\\n",
       "0               1      573      M     87000          56  581.03  02/01/20   \n",
       "1               2      737      F     34000          51  421.73  02/01/20   \n",
       "\n",
       "   hora                                        dispositivo  \\\n",
       "0     0  {'año': 2019, 'marca': 'Apple', 'proveedor': '...   \n",
       "1     0  {'año': 2021, 'marca': 'Huawei', 'proveedor': ...   \n",
       "\n",
       "        establecimiento            ciudad status_txn  is_prime  dcto  \\\n",
       "0              Farmacia  Ciudad de México   Aceptada     False   0.0   \n",
       "1  Tienda departamental            Cancún   Aceptada     False   0.0   \n",
       "\n",
       "   cashback  fraude  Disp_Año Disp_Marca Disp_Proveedor  \n",
       "0     17.43   False      2019      Apple         Telcel  \n",
       "1     12.65   False      2021     Huawei            ATT  "
      ]
     },
     "metadata": {},
     "output_type": "display_data"
    },
    {
     "name": "stdout",
     "output_type": "stream",
     "text": [
      "(26165, 19)\n"
     ]
    }
   ],
   "source": [
    "df_fraude=df[df.fraude==True]\n",
    "df_no_fraude=df[df.fraude==False]\n",
    "display(df_fraude.head(2))\n",
    "print(df_fraude.shape)\n",
    "display(df_no_fraude.head(2))\n",
    "print(df_no_fraude.shape)"
   ]
  },
  {
   "cell_type": "code",
   "execution_count": 21,
   "id": "4eb1e117",
   "metadata": {
    "scrolled": false
   },
   "outputs": [
    {
     "name": "stdout",
     "output_type": "stream",
     "text": [
      "<class 'pandas.core.frame.DataFrame'>\n",
      "RangeIndex: 26975 entries, 0 to 26974\n",
      "Data columns (total 22 columns):\n",
      " #   Column           Non-Null Count  Dtype  \n",
      "---  ------           --------------  -----  \n",
      " 0   transaction_id   26975 non-null  int64  \n",
      " 1   user_id          26975 non-null  int64  \n",
      " 2   género           26975 non-null  object \n",
      " 3   linea_tc         26975 non-null  int64  \n",
      " 4   interes_tc       26975 non-null  int64  \n",
      " 5   monto            26975 non-null  float64\n",
      " 6   fecha            26975 non-null  object \n",
      " 7   hora             26975 non-null  int64  \n",
      " 8   dispositivo      26975 non-null  object \n",
      " 9   establecimiento  24036 non-null  object \n",
      " 10  ciudad           26641 non-null  object \n",
      " 11  status_txn       26975 non-null  object \n",
      " 12  is_prime         26975 non-null  bool   \n",
      " 13  dcto             26975 non-null  float64\n",
      " 14  cashback         26975 non-null  float64\n",
      " 15  fraude           26975 non-null  bool   \n",
      " 16  Disp_Año         26975 non-null  int64  \n",
      " 17  Disp_Marca       26975 non-null  object \n",
      " 18  Disp_Proveedor   26975 non-null  object \n",
      " 19  Txns_Mes         26958 non-null  float64\n",
      " 20  monto_calc       26958 non-null  float64\n",
      " 21  hora_calc        26958 non-null  float64\n",
      "dtypes: bool(2), float64(6), int64(6), object(8)\n",
      "memory usage: 4.2+ MB\n"
     ]
    }
   ],
   "source": [
    "df.info()"
   ]
  },
  {
   "cell_type": "markdown",
   "id": "366f33a0",
   "metadata": {},
   "source": [
    "Solamente \"establecimiento\" y \"ciudad\" cuentan con valores nulos a los cuales se les imputaran valores."
   ]
  },
  {
   "cell_type": "code",
   "execution_count": 22,
   "id": "67ee0429",
   "metadata": {},
   "outputs": [
    {
     "name": "stdout",
     "output_type": "stream",
     "text": [
      "establecimiento\n",
      "Tienda departamental    0.256979\n",
      "Compra en línea         0.245227\n",
      "Farmacia                0.153735\n",
      "Supermercado            0.148916\n",
      "NaN                     0.108953\n",
      "Abarrotes               0.086191\n",
      "Name: proportion, dtype: float64\n",
      "\n",
      "\n",
      "ciudad\n",
      "Monterrey           0.247340\n",
      "Guadalajara         0.223318\n",
      "Nezahualcóyotl      0.159889\n",
      "Ciudad de México    0.152030\n",
      "Tijuana             0.087933\n",
      "Cancún              0.059462\n",
      "Toluca              0.057646\n",
      "NaN                 0.012382\n",
      "Name: proportion, dtype: float64\n"
     ]
    }
   ],
   "source": [
    "print(df.establecimiento.value_counts(1,dropna=False))\n",
    "print(\"\\n\")\n",
    "print(df.ciudad.value_counts(1,dropna=False))"
   ]
  },
  {
   "cell_type": "code",
   "execution_count": 23,
   "id": "a4b9a5ad",
   "metadata": {},
   "outputs": [],
   "source": [
    "df.loc[df.establecimiento.isnull(), \"establecimiento\"]=\"Otro\"\n",
    "df.loc[df.ciudad.isnull(), \"ciudad\"]=\"Otro\""
   ]
  },
  {
   "cell_type": "markdown",
   "id": "d220613e",
   "metadata": {},
   "source": [
    "Analizamos el comportamiento de las variables continuas"
   ]
  },
  {
   "cell_type": "code",
   "execution_count": 25,
   "id": "b58332a8",
   "metadata": {},
   "outputs": [],
   "source": [
    "import seaborn as sns\n",
    "import matplotlib.pyplot as plt\n",
    "\n",
    "continuas=[\"linea_tc\", \"interes_tc\", \"monto\", \"dcto\", \"cashback\"]"
   ]
  },
  {
   "cell_type": "code",
   "execution_count": 26,
   "id": "27a3e33c",
   "metadata": {},
   "outputs": [],
   "source": [
    "def plot_corr(cor):\n",
    "    sns.heatmap(cor, annot = True,  vmin = -1, vmax = 1)\n",
    "    plt.rcParams['figure.figsize']=(6,6)\n",
    "    plt.show()"
   ]
  },
  {
   "cell_type": "code",
   "execution_count": 29,
   "id": "3bf61076",
   "metadata": {},
   "outputs": [
    {
     "data": {
      "image/png": "[encoded data removed]",
      "text/plain": [
       "<Figure size 700x500 with 2 Axes>"
      ]
     },
     "metadata": {},
     "output_type": "display_data"
    }
   ],
   "source": [
    "plt.rcParams['figure.figsize'] = (7, 5)\n",
    "plot_corr(df[continuas].corr())"
   ]
  },
  {
   "cell_type": "markdown",
   "id": "5c39b6cd",
   "metadata": {},
   "source": [
    "Es evidente la correlación existente respecto al monto y el cashback, lo cual tiene sentido por como funcionan las tarjetas. Por ello, para el modelo descartaremos la variable de cashback para enfocarnos en el monto."
   ]
  },
  {
   "cell_type": "code",
   "execution_count": 46,
   "id": "1c754561",
   "metadata": {
    "scrolled": true
   },
   "outputs": [
    {
     "data": {
      "text/html": [
       "<div>\n",
       "<style scoped>\n",
       "    .dataframe tbody tr th:only-of-type {\n",
       "        vertical-align: middle;\n",
       "    }\n",
       "\n",
       "    .dataframe tbody tr th {\n",
       "        vertical-align: top;\n",
       "    }\n",
       "\n",
       "    .dataframe thead th {\n",
       "        text-align: right;\n",
       "    }\n",
       "</style>\n",
       "<table border=\"1\" class=\"dataframe\">\n",
       "  <thead>\n",
       "    <tr style=\"text-align: right;\">\n",
       "      <th></th>\n",
       "      <th>linea_tc</th>\n",
       "      <th>interes_tc</th>\n",
       "      <th>monto</th>\n",
       "      <th>dcto</th>\n",
       "      <th>cashback</th>\n",
       "    </tr>\n",
       "  </thead>\n",
       "  <tbody>\n",
       "    <tr>\n",
       "      <th>count</th>\n",
       "      <td>26975.000000</td>\n",
       "      <td>26975.000000</td>\n",
       "      <td>26975.000000</td>\n",
       "      <td>26975.000000</td>\n",
       "      <td>26975.000000</td>\n",
       "    </tr>\n",
       "    <tr>\n",
       "      <th>mean</th>\n",
       "      <td>62476.811863</td>\n",
       "      <td>48.224875</td>\n",
       "      <td>513.796463</td>\n",
       "      <td>5.369477</td>\n",
       "      <td>16.924524</td>\n",
       "    </tr>\n",
       "    <tr>\n",
       "      <th>std</th>\n",
       "      <td>21886.892902</td>\n",
       "      <td>9.587256</td>\n",
       "      <td>290.342419</td>\n",
       "      <td>12.322335</td>\n",
       "      <td>10.893845</td>\n",
       "    </tr>\n",
       "    <tr>\n",
       "      <th>min</th>\n",
       "      <td>25000.000000</td>\n",
       "      <td>32.000000</td>\n",
       "      <td>1.000000</td>\n",
       "      <td>0.000000</td>\n",
       "      <td>0.030000</td>\n",
       "    </tr>\n",
       "    <tr>\n",
       "      <th>25%</th>\n",
       "      <td>44000.000000</td>\n",
       "      <td>40.000000</td>\n",
       "      <td>300.490000</td>\n",
       "      <td>0.000000</td>\n",
       "      <td>9.495000</td>\n",
       "    </tr>\n",
       "    <tr>\n",
       "      <th>50%</th>\n",
       "      <td>62000.000000</td>\n",
       "      <td>48.000000</td>\n",
       "      <td>506.380000</td>\n",
       "      <td>0.000000</td>\n",
       "      <td>15.930000</td>\n",
       "    </tr>\n",
       "    <tr>\n",
       "      <th>75%</th>\n",
       "      <td>82000.000000</td>\n",
       "      <td>57.000000</td>\n",
       "      <td>716.515000</td>\n",
       "      <td>0.000000</td>\n",
       "      <td>22.830000</td>\n",
       "    </tr>\n",
       "    <tr>\n",
       "      <th>max</th>\n",
       "      <td>99000.000000</td>\n",
       "      <td>64.000000</td>\n",
       "      <td>1712.700000</td>\n",
       "      <td>85.640000</td>\n",
       "      <td>109.730000</td>\n",
       "    </tr>\n",
       "  </tbody>\n",
       "</table>\n",
       "</div>"
      ],
      "text/plain": [
       "           linea_tc    interes_tc         monto          dcto      cashback\n",
       "count  26975.000000  26975.000000  26975.000000  26975.000000  26975.000000\n",
       "mean   62476.811863     48.224875    513.796463      5.369477     16.924524\n",
       "std    21886.892902      9.587256    290.342419     12.322335     10.893845\n",
       "min    25000.000000     32.000000      1.000000      0.000000      0.030000\n",
       "25%    44000.000000     40.000000    300.490000      0.000000      9.495000\n",
       "50%    62000.000000     48.000000    506.380000      0.000000     15.930000\n",
       "75%    82000.000000     57.000000    716.515000      0.000000     22.830000\n",
       "max    99000.000000     64.000000   1712.700000     85.640000    109.730000"
      ]
     },
     "metadata": {},
     "output_type": "display_data"
    },
    {
     "data": {
      "text/html": [
       "<div>\n",
       "<style scoped>\n",
       "    .dataframe tbody tr th:only-of-type {\n",
       "        vertical-align: middle;\n",
       "    }\n",
       "\n",
       "    .dataframe tbody tr th {\n",
       "        vertical-align: top;\n",
       "    }\n",
       "\n",
       "    .dataframe thead th {\n",
       "        text-align: right;\n",
       "    }\n",
       "</style>\n",
       "<table border=\"1\" class=\"dataframe\">\n",
       "  <thead>\n",
       "    <tr style=\"text-align: right;\">\n",
       "      <th></th>\n",
       "      <th>linea_tc</th>\n",
       "      <th>interes_tc</th>\n",
       "      <th>monto</th>\n",
       "      <th>dcto</th>\n",
       "      <th>cashback</th>\n",
       "    </tr>\n",
       "  </thead>\n",
       "  <tbody>\n",
       "    <tr>\n",
       "      <th>count</th>\n",
       "      <td>810.000000</td>\n",
       "      <td>810.000000</td>\n",
       "      <td>810.000000</td>\n",
       "      <td>810.000000</td>\n",
       "      <td>810.000000</td>\n",
       "    </tr>\n",
       "    <tr>\n",
       "      <th>mean</th>\n",
       "      <td>62416.049383</td>\n",
       "      <td>48.054321</td>\n",
       "      <td>578.958272</td>\n",
       "      <td>6.383025</td>\n",
       "      <td>23.548099</td>\n",
       "    </tr>\n",
       "    <tr>\n",
       "      <th>std</th>\n",
       "      <td>21746.567902</td>\n",
       "      <td>9.697120</td>\n",
       "      <td>319.178360</td>\n",
       "      <td>14.066990</td>\n",
       "      <td>16.671467</td>\n",
       "    </tr>\n",
       "    <tr>\n",
       "      <th>min</th>\n",
       "      <td>25000.000000</td>\n",
       "      <td>32.000000</td>\n",
       "      <td>1.000000</td>\n",
       "      <td>0.000000</td>\n",
       "      <td>0.030000</td>\n",
       "    </tr>\n",
       "    <tr>\n",
       "      <th>25%</th>\n",
       "      <td>44000.000000</td>\n",
       "      <td>39.000000</td>\n",
       "      <td>339.947500</td>\n",
       "      <td>0.000000</td>\n",
       "      <td>12.282500</td>\n",
       "    </tr>\n",
       "    <tr>\n",
       "      <th>50%</th>\n",
       "      <td>61500.000000</td>\n",
       "      <td>48.000000</td>\n",
       "      <td>572.940000</td>\n",
       "      <td>0.000000</td>\n",
       "      <td>20.660000</td>\n",
       "    </tr>\n",
       "    <tr>\n",
       "      <th>75%</th>\n",
       "      <td>83000.000000</td>\n",
       "      <td>57.000000</td>\n",
       "      <td>793.955000</td>\n",
       "      <td>0.000000</td>\n",
       "      <td>30.582500</td>\n",
       "    </tr>\n",
       "    <tr>\n",
       "      <th>max</th>\n",
       "      <td>99000.000000</td>\n",
       "      <td>64.000000</td>\n",
       "      <td>1625.160000</td>\n",
       "      <td>67.420000</td>\n",
       "      <td>109.730000</td>\n",
       "    </tr>\n",
       "  </tbody>\n",
       "</table>\n",
       "</div>"
      ],
      "text/plain": [
       "           linea_tc  interes_tc        monto        dcto    cashback\n",
       "count    810.000000  810.000000   810.000000  810.000000  810.000000\n",
       "mean   62416.049383   48.054321   578.958272    6.383025   23.548099\n",
       "std    21746.567902    9.697120   319.178360   14.066990   16.671467\n",
       "min    25000.000000   32.000000     1.000000    0.000000    0.030000\n",
       "25%    44000.000000   39.000000   339.947500    0.000000   12.282500\n",
       "50%    61500.000000   48.000000   572.940000    0.000000   20.660000\n",
       "75%    83000.000000   57.000000   793.955000    0.000000   30.582500\n",
       "max    99000.000000   64.000000  1625.160000   67.420000  109.730000"
      ]
     },
     "metadata": {},
     "output_type": "display_data"
    },
    {
     "data": {
      "text/html": [
       "<div>\n",
       "<style scoped>\n",
       "    .dataframe tbody tr th:only-of-type {\n",
       "        vertical-align: middle;\n",
       "    }\n",
       "\n",
       "    .dataframe tbody tr th {\n",
       "        vertical-align: top;\n",
       "    }\n",
       "\n",
       "    .dataframe thead th {\n",
       "        text-align: right;\n",
       "    }\n",
       "</style>\n",
       "<table border=\"1\" class=\"dataframe\">\n",
       "  <thead>\n",
       "    <tr style=\"text-align: right;\">\n",
       "      <th></th>\n",
       "      <th>linea_tc</th>\n",
       "      <th>interes_tc</th>\n",
       "      <th>monto</th>\n",
       "      <th>dcto</th>\n",
       "      <th>cashback</th>\n",
       "    </tr>\n",
       "  </thead>\n",
       "  <tbody>\n",
       "    <tr>\n",
       "      <th>count</th>\n",
       "      <td>26165.000000</td>\n",
       "      <td>26165.000000</td>\n",
       "      <td>26165.000000</td>\n",
       "      <td>26165.000000</td>\n",
       "      <td>26165.000000</td>\n",
       "    </tr>\n",
       "    <tr>\n",
       "      <th>mean</th>\n",
       "      <td>62478.692910</td>\n",
       "      <td>48.230155</td>\n",
       "      <td>511.779223</td>\n",
       "      <td>5.338100</td>\n",
       "      <td>16.719476</td>\n",
       "    </tr>\n",
       "    <tr>\n",
       "      <th>std</th>\n",
       "      <td>21891.632949</td>\n",
       "      <td>9.583973</td>\n",
       "      <td>289.176350</td>\n",
       "      <td>12.263334</td>\n",
       "      <td>10.599798</td>\n",
       "    </tr>\n",
       "    <tr>\n",
       "      <th>min</th>\n",
       "      <td>25000.000000</td>\n",
       "      <td>32.000000</td>\n",
       "      <td>1.000000</td>\n",
       "      <td>0.000000</td>\n",
       "      <td>0.030000</td>\n",
       "    </tr>\n",
       "    <tr>\n",
       "      <th>25%</th>\n",
       "      <td>44000.000000</td>\n",
       "      <td>40.000000</td>\n",
       "      <td>299.370000</td>\n",
       "      <td>0.000000</td>\n",
       "      <td>9.430000</td>\n",
       "    </tr>\n",
       "    <tr>\n",
       "      <th>50%</th>\n",
       "      <td>63000.000000</td>\n",
       "      <td>48.000000</td>\n",
       "      <td>504.050000</td>\n",
       "      <td>0.000000</td>\n",
       "      <td>15.840000</td>\n",
       "    </tr>\n",
       "    <tr>\n",
       "      <th>75%</th>\n",
       "      <td>82000.000000</td>\n",
       "      <td>57.000000</td>\n",
       "      <td>713.780000</td>\n",
       "      <td>0.000000</td>\n",
       "      <td>22.640000</td>\n",
       "    </tr>\n",
       "    <tr>\n",
       "      <th>max</th>\n",
       "      <td>99000.000000</td>\n",
       "      <td>64.000000</td>\n",
       "      <td>1712.700000</td>\n",
       "      <td>85.640000</td>\n",
       "      <td>98.740000</td>\n",
       "    </tr>\n",
       "  </tbody>\n",
       "</table>\n",
       "</div>"
      ],
      "text/plain": [
       "           linea_tc    interes_tc         monto          dcto      cashback\n",
       "count  26165.000000  26165.000000  26165.000000  26165.000000  26165.000000\n",
       "mean   62478.692910     48.230155    511.779223      5.338100     16.719476\n",
       "std    21891.632949      9.583973    289.176350     12.263334     10.599798\n",
       "min    25000.000000     32.000000      1.000000      0.000000      0.030000\n",
       "25%    44000.000000     40.000000    299.370000      0.000000      9.430000\n",
       "50%    63000.000000     48.000000    504.050000      0.000000     15.840000\n",
       "75%    82000.000000     57.000000    713.780000      0.000000     22.640000\n",
       "max    99000.000000     64.000000   1712.700000     85.640000     98.740000"
      ]
     },
     "metadata": {},
     "output_type": "display_data"
    }
   ],
   "source": [
    "display(df[continuas].describe())\n",
    "display(df_fraude[continuas].describe())\n",
    "display(df_no_fraude[continuas].describe())"
   ]
  },
  {
   "cell_type": "markdown",
   "id": "71ed0c18",
   "metadata": {},
   "source": [
    "Es notorio que la variable \"dcto\" tiene en más de un 75% de sus valores el número 0 (para ambas clases), por ello desde un principio descarta, dado que no aportaría valos para el análisis.\n",
    "\n",
    "Unas variables que no se descartarán en primera instancia pero se tendrán en observación para ser descartadas son \"linea_tc\" y \"interes_tc\", esto porque  ambas variables tienes una distribución casi igual para el caso de los fraudes y no fraudes."
   ]
  },
  {
   "cell_type": "code",
   "execution_count": 10,
   "id": "baaca3c0",
   "metadata": {},
   "outputs": [
    {
     "data": {
      "text/plain": [
       "Index(['transaction_id', 'user_id', 'género', 'linea_tc', 'interes_tc',\n",
       "       'monto', 'fecha', 'hora', 'dispositivo', 'establecimiento', 'ciudad',\n",
       "       'status_txn', 'is_prime', 'dcto', 'cashback', 'fraude', 'Disp_Año',\n",
       "       'Disp_Marca', 'Disp_Proveedor'],\n",
       "      dtype='object')"
      ]
     },
     "execution_count": 10,
     "metadata": {},
     "output_type": "execute_result"
    }
   ],
   "source": [
    "df.columns"
   ]
  },
  {
   "cell_type": "code",
   "execution_count": 42,
   "id": "ca2ff2cc",
   "metadata": {
    "scrolled": true
   },
   "outputs": [
    {
     "name": "stdout",
     "output_type": "stream",
     "text": [
      "status_txn\n",
      "Aceptada      18844\n",
      "En proceso     5341\n",
      "Rechazada      2790\n",
      "Name: count, dtype: int64\n",
      "user_id\n",
      "1958    62\n",
      "320     46\n",
      "1361    42\n",
      "2845    42\n",
      "3678    40\n",
      "        ..\n",
      "3799     1\n",
      "757      1\n",
      "3887     1\n",
      "3330     1\n",
      "2301     1\n",
      "Name: count, Length: 4000, dtype: int64\n",
      "género\n",
      "M    12472\n",
      "F    12000\n",
      "N     2503\n",
      "Name: count, dtype: int64\n",
      "establecimiento\n",
      "Tienda departamental    6932\n",
      "Compra en línea         6615\n",
      "Farmacia                4147\n",
      "Supermercado            4017\n",
      "Otro                    2939\n",
      "Abarrotes               2325\n",
      "Name: count, dtype: int64\n"
     ]
    }
   ],
   "source": [
    "# print(df.transaction_id.value_counts())\n",
    "print(df.status_txn.value_counts())\n",
    "print(df.user_id.value_counts())\n",
    "print(df['género'].value_counts())\n",
    "print(df.establecimiento.value_counts())"
   ]
  },
  {
   "cell_type": "code",
   "execution_count": 73,
   "id": "ab81561c",
   "metadata": {},
   "outputs": [],
   "source": [
    "# sum(df[df.monto>df.linea_tc].values) #Los montos nunca exceden la linea de crédito"
   ]
  },
  {
   "cell_type": "markdown",
   "id": "e385409f",
   "metadata": {},
   "source": [
    "Creamos una variable que nos diga cuantas operaciones ha realizado el cliente (sin contemplar fraudes)"
   ]
  },
  {
   "cell_type": "code",
   "execution_count": 12,
   "id": "12019926",
   "metadata": {},
   "outputs": [
    {
     "data": {
      "text/html": [
       "<div>\n",
       "<style scoped>\n",
       "    .dataframe tbody tr th:only-of-type {\n",
       "        vertical-align: middle;\n",
       "    }\n",
       "\n",
       "    .dataframe tbody tr th {\n",
       "        vertical-align: top;\n",
       "    }\n",
       "\n",
       "    .dataframe thead th {\n",
       "        text-align: right;\n",
       "    }\n",
       "</style>\n",
       "<table border=\"1\" class=\"dataframe\">\n",
       "  <thead>\n",
       "    <tr style=\"text-align: right;\">\n",
       "      <th></th>\n",
       "      <th>user_id</th>\n",
       "      <th>Txns_Mes</th>\n",
       "    </tr>\n",
       "  </thead>\n",
       "  <tbody>\n",
       "    <tr>\n",
       "      <th>0</th>\n",
       "      <td>1958</td>\n",
       "      <td>61</td>\n",
       "    </tr>\n",
       "    <tr>\n",
       "      <th>1</th>\n",
       "      <td>320</td>\n",
       "      <td>44</td>\n",
       "    </tr>\n",
       "    <tr>\n",
       "      <th>2</th>\n",
       "      <td>1361</td>\n",
       "      <td>42</td>\n",
       "    </tr>\n",
       "    <tr>\n",
       "      <th>3</th>\n",
       "      <td>3678</td>\n",
       "      <td>40</td>\n",
       "    </tr>\n",
       "    <tr>\n",
       "      <th>4</th>\n",
       "      <td>2414</td>\n",
       "      <td>39</td>\n",
       "    </tr>\n",
       "  </tbody>\n",
       "</table>\n",
       "</div>"
      ],
      "text/plain": [
       "   user_id  Txns_Mes\n",
       "0     1958        61\n",
       "1      320        44\n",
       "2     1361        42\n",
       "3     3678        40\n",
       "4     2414        39"
      ]
     },
     "metadata": {},
     "output_type": "display_data"
    }
   ],
   "source": [
    "df_us=df_no_fraude[['user_id', 'fraude']].groupby(['user_id']).count().reset_index().sort_values(by='fraude', ascending=False).reset_index(drop=True).rename(columns={\"fraude\":\"Txns_Mes\"})\n",
    "display(df_us.head())"
   ]
  },
  {
   "cell_type": "code",
   "execution_count": 13,
   "id": "b1dd98ea",
   "metadata": {
    "scrolled": true
   },
   "outputs": [
    {
     "data": {
      "text/html": [
       "<div>\n",
       "<style scoped>\n",
       "    .dataframe tbody tr th:only-of-type {\n",
       "        vertical-align: middle;\n",
       "    }\n",
       "\n",
       "    .dataframe tbody tr th {\n",
       "        vertical-align: top;\n",
       "    }\n",
       "\n",
       "    .dataframe thead th {\n",
       "        text-align: right;\n",
       "    }\n",
       "</style>\n",
       "<table border=\"1\" class=\"dataframe\">\n",
       "  <thead>\n",
       "    <tr style=\"text-align: right;\">\n",
       "      <th></th>\n",
       "      <th>user_id</th>\n",
       "      <th>monto</th>\n",
       "      <th>hora</th>\n",
       "    </tr>\n",
       "  </thead>\n",
       "  <tbody>\n",
       "    <tr>\n",
       "      <th>0</th>\n",
       "      <td>0</td>\n",
       "      <td>392.655000</td>\n",
       "      <td>15.500000</td>\n",
       "    </tr>\n",
       "    <tr>\n",
       "      <th>1</th>\n",
       "      <td>1</td>\n",
       "      <td>641.768571</td>\n",
       "      <td>14.142857</td>\n",
       "    </tr>\n",
       "    <tr>\n",
       "      <th>2</th>\n",
       "      <td>2</td>\n",
       "      <td>548.381429</td>\n",
       "      <td>13.857143</td>\n",
       "    </tr>\n",
       "    <tr>\n",
       "      <th>3</th>\n",
       "      <td>3</td>\n",
       "      <td>500.480000</td>\n",
       "      <td>17.500000</td>\n",
       "    </tr>\n",
       "    <tr>\n",
       "      <th>4</th>\n",
       "      <td>4</td>\n",
       "      <td>254.010000</td>\n",
       "      <td>14.000000</td>\n",
       "    </tr>\n",
       "  </tbody>\n",
       "</table>\n",
       "</div>"
      ],
      "text/plain": [
       "   user_id       monto       hora\n",
       "0        0  392.655000  15.500000\n",
       "1        1  641.768571  14.142857\n",
       "2        2  548.381429  13.857143\n",
       "3        3  500.480000  17.500000\n",
       "4        4  254.010000  14.000000"
      ]
     },
     "metadata": {},
     "output_type": "display_data"
    }
   ],
   "source": [
    "df_us1=df_no_fraude[['user_id', 'monto', 'hora']].groupby(['user_id']).mean().reset_index()#.sort_values(by='fraude', ascending=False).reset_index(drop=True)\n",
    "display(df_us1.head())"
   ]
  },
  {
   "cell_type": "code",
   "execution_count": 17,
   "id": "7be7c26d",
   "metadata": {
    "scrolled": true
   },
   "outputs": [],
   "source": [
    "df=df.merge(df_us, how=\"left\", on = \"user_id\", suffixes=('', '_calc'))"
   ]
  },
  {
   "cell_type": "code",
   "execution_count": 19,
   "id": "d50565cf",
   "metadata": {},
   "outputs": [
    {
     "data": {
      "text/html": [
       "<div>\n",
       "<style scoped>\n",
       "    .dataframe tbody tr th:only-of-type {\n",
       "        vertical-align: middle;\n",
       "    }\n",
       "\n",
       "    .dataframe tbody tr th {\n",
       "        vertical-align: top;\n",
       "    }\n",
       "\n",
       "    .dataframe thead th {\n",
       "        text-align: right;\n",
       "    }\n",
       "</style>\n",
       "<table border=\"1\" class=\"dataframe\">\n",
       "  <thead>\n",
       "    <tr style=\"text-align: right;\">\n",
       "      <th></th>\n",
       "      <th>transaction_id</th>\n",
       "      <th>user_id</th>\n",
       "      <th>género</th>\n",
       "      <th>linea_tc</th>\n",
       "      <th>interes_tc</th>\n",
       "      <th>monto</th>\n",
       "      <th>fecha</th>\n",
       "      <th>hora</th>\n",
       "      <th>dispositivo</th>\n",
       "      <th>establecimiento</th>\n",
       "      <th>...</th>\n",
       "      <th>is_prime</th>\n",
       "      <th>dcto</th>\n",
       "      <th>cashback</th>\n",
       "      <th>fraude</th>\n",
       "      <th>Disp_Año</th>\n",
       "      <th>Disp_Marca</th>\n",
       "      <th>Disp_Proveedor</th>\n",
       "      <th>Txns_Mes</th>\n",
       "      <th>monto_calc</th>\n",
       "      <th>hora_calc</th>\n",
       "    </tr>\n",
       "  </thead>\n",
       "  <tbody>\n",
       "    <tr>\n",
       "      <th>0</th>\n",
       "      <td>1</td>\n",
       "      <td>573</td>\n",
       "      <td>M</td>\n",
       "      <td>87000</td>\n",
       "      <td>56</td>\n",
       "      <td>581.03</td>\n",
       "      <td>02/01/20</td>\n",
       "      <td>0</td>\n",
       "      <td>{'año': 2019, 'marca': 'Apple', 'proveedor': '...</td>\n",
       "      <td>Farmacia</td>\n",
       "      <td>...</td>\n",
       "      <td>False</td>\n",
       "      <td>0.0</td>\n",
       "      <td>17.43</td>\n",
       "      <td>False</td>\n",
       "      <td>2019</td>\n",
       "      <td>Apple</td>\n",
       "      <td>Telcel</td>\n",
       "      <td>17.0</td>\n",
       "      <td>528.374118</td>\n",
       "      <td>10.705882</td>\n",
       "    </tr>\n",
       "  </tbody>\n",
       "</table>\n",
       "<p>1 rows × 22 columns</p>\n",
       "</div>"
      ],
      "text/plain": [
       "   transaction_id  user_id género  linea_tc  interes_tc   monto     fecha  \\\n",
       "0               1      573      M     87000          56  581.03  02/01/20   \n",
       "\n",
       "   hora                                        dispositivo establecimiento  \\\n",
       "0     0  {'año': 2019, 'marca': 'Apple', 'proveedor': '...        Farmacia   \n",
       "\n",
       "   ... is_prime dcto  cashback  fraude  Disp_Año  Disp_Marca  Disp_Proveedor  \\\n",
       "0  ...    False  0.0     17.43   False      2019       Apple          Telcel   \n",
       "\n",
       "  Txns_Mes  monto_calc  hora_calc  \n",
       "0     17.0  528.374118  10.705882  \n",
       "\n",
       "[1 rows x 22 columns]"
      ]
     },
     "metadata": {},
     "output_type": "display_data"
    }
   ],
   "source": [
    "df=df.merge(df_us1, how=\"left\", on = \"user_id\", suffixes=('', '_calc'))\n",
    "display(df.head(1))"
   ]
  },
  {
   "cell_type": "code",
   "execution_count": 35,
   "id": "1a40bf47",
   "metadata": {},
   "outputs": [],
   "source": [
    "df.loc[df.Txns_Mes.isnull(), \"Txns_Mes\"]=0\n",
    "#df['Columna1'] = df['Columna1'].fillna(df['Columna2'])\n",
    "df['monto_calc']=df['monto_calc'].fillna(df['monto'])\n",
    "df['hora_calc']=df['hora_calc'].fillna(df['hora'])"
   ]
  },
  {
   "cell_type": "code",
   "execution_count": 40,
   "id": "1c1265fa",
   "metadata": {},
   "outputs": [
    {
     "data": {
      "text/plain": [
       "Index(['transaction_id', 'user_id', 'género', 'linea_tc', 'interes_tc',\n",
       "       'monto', 'fecha', 'hora', 'dispositivo', 'establecimiento', 'ciudad',\n",
       "       'status_txn', 'is_prime', 'dcto', 'cashback', 'fraude', 'Disp_Año',\n",
       "       'Disp_Marca', 'Disp_Proveedor', 'Txns_Mes', 'monto_calc', 'hora_calc'],\n",
       "      dtype='object')"
      ]
     },
     "execution_count": 40,
     "metadata": {},
     "output_type": "execute_result"
    }
   ],
   "source": [
    "df.columns"
   ]
  },
  {
   "cell_type": "markdown",
   "id": "ce82dae4",
   "metadata": {},
   "source": [
    "Pasaremos a seleccionar los datos que a analizar en el software de visualización, así como empezar a descartar las variables que no aportan valor al modelo.\n",
    "\n",
    "Las variables que utilizaremos para el análisis son:\n",
    "- género\n",
    "- linea_tc\n",
    "- interes_tc\n",
    "- monto\n",
    "- fecha\n",
    "- hora\n",
    "- establecimiento\n",
    "- ciudad\n",
    "- is_prime\n",
    "- Disp_Año\n",
    "- Disp_Marca\n",
    "- Disp_Proveedor\n",
    "- Txns_Mes\n",
    "- monto_calc\n",
    "- hora_calc\n",
    "- fraude --> Variable Objetivo\n",
    "\n",
    "\n",
    "Las variables que descartamos son:\n",
    "- transaction_id -- > Dado que es una llave que identifica la transacción\n",
    "- user_id --> Dado que sirve para identificar al cliente\n",
    "- dispositivo  --> se generaron columnas nuevas a partir de esta\n",
    "- status_txn --> Dado que nosotros buscamos aceptar o rechazar, así que solo sesgaría las deciciones del modelo\n",
    "- dcto --> Se descartó en un principio dada la alta cantidad de valores en 0\n",
    "- cashback --> Dada la alta correlación con el monto"
   ]
  },
  {
   "cell_type": "code",
   "execution_count": 44,
   "id": "797d55b9",
   "metadata": {},
   "outputs": [],
   "source": [
    "df2=df[['género', 'linea_tc', 'interes_tc', 'monto', 'fecha', 'hora', 'establecimiento', 'ciudad',\n",
    "       'is_prime', 'fraude', 'Disp_Año', 'Disp_Marca', 'Disp_Proveedor', 'Txns_Mes', 'monto_calc', 'hora_calc']]"
   ]
  },
  {
   "cell_type": "code",
   "execution_count": 45,
   "id": "3436e620",
   "metadata": {},
   "outputs": [],
   "source": [
    "df2.to_excel(\"Fraude_challenge_2024.xlsx\", index=False)"
   ]
  },
  {
   "cell_type": "markdown",
   "id": "2380050f",
   "metadata": {},
   "source": [
    "Fin análisis variables.\n",
    "\n",
    "\n",
    "\n",
    "\n",
    "\n",
    "\n",
    "\n",
    "\n",
    "\n",
    "\n",
    "\n",
    "\n",
    "# Modelo"
   ]
  },
  {
   "cell_type": "code",
   "execution_count": 104,
   "id": "60cd0958",
   "metadata": {},
   "outputs": [],
   "source": [
    "# v_base=['monto', 'hora', 'establecimiento', 'ciudad', 'Disp_Año', 'Disp_Marca', 'fraude'] #variables seleccionadas por analisis\n",
    "# n_new=['Txns_Mes', 'monto_calc'] # estas variables deben ser calculadas con el conjunto de prueba"
   ]
  },
  {
   "cell_type": "code",
   "execution_count": 3,
   "id": "aba78375",
   "metadata": {},
   "outputs": [
    {
     "data": {
      "text/html": [
       "<div>\n",
       "<style scoped>\n",
       "    .dataframe tbody tr th:only-of-type {\n",
       "        vertical-align: middle;\n",
       "    }\n",
       "\n",
       "    .dataframe tbody tr th {\n",
       "        vertical-align: top;\n",
       "    }\n",
       "\n",
       "    .dataframe thead th {\n",
       "        text-align: right;\n",
       "    }\n",
       "</style>\n",
       "<table border=\"1\" class=\"dataframe\">\n",
       "  <thead>\n",
       "    <tr style=\"text-align: right;\">\n",
       "      <th></th>\n",
       "      <th>transaction_id</th>\n",
       "      <th>user_id</th>\n",
       "      <th>género</th>\n",
       "      <th>linea_tc</th>\n",
       "      <th>interes_tc</th>\n",
       "      <th>monto</th>\n",
       "      <th>fecha</th>\n",
       "      <th>hora</th>\n",
       "      <th>dispositivo</th>\n",
       "      <th>establecimiento</th>\n",
       "      <th>ciudad</th>\n",
       "      <th>status_txn</th>\n",
       "      <th>is_prime</th>\n",
       "      <th>dcto</th>\n",
       "      <th>cashback</th>\n",
       "      <th>fraude</th>\n",
       "    </tr>\n",
       "  </thead>\n",
       "  <tbody>\n",
       "    <tr>\n",
       "      <th>0</th>\n",
       "      <td>1</td>\n",
       "      <td>573</td>\n",
       "      <td>M</td>\n",
       "      <td>87000</td>\n",
       "      <td>56</td>\n",
       "      <td>581.03</td>\n",
       "      <td>02/01/20</td>\n",
       "      <td>0</td>\n",
       "      <td>{'año': 2019, 'marca': 'Apple', 'proveedor': '...</td>\n",
       "      <td>Farmacia</td>\n",
       "      <td>Ciudad de México</td>\n",
       "      <td>Aceptada</td>\n",
       "      <td>False</td>\n",
       "      <td>0.0</td>\n",
       "      <td>17.43</td>\n",
       "      <td>False</td>\n",
       "    </tr>\n",
       "    <tr>\n",
       "      <th>1</th>\n",
       "      <td>2</td>\n",
       "      <td>737</td>\n",
       "      <td>F</td>\n",
       "      <td>34000</td>\n",
       "      <td>51</td>\n",
       "      <td>421.73</td>\n",
       "      <td>02/01/20</td>\n",
       "      <td>0</td>\n",
       "      <td>{'año': 2021, 'marca': 'Huawei', 'proveedor': ...</td>\n",
       "      <td>Tienda departamental</td>\n",
       "      <td>Cancún</td>\n",
       "      <td>Aceptada</td>\n",
       "      <td>False</td>\n",
       "      <td>0.0</td>\n",
       "      <td>12.65</td>\n",
       "      <td>False</td>\n",
       "    </tr>\n",
       "  </tbody>\n",
       "</table>\n",
       "</div>"
      ],
      "text/plain": [
       "   transaction_id  user_id género  linea_tc  interes_tc   monto     fecha  \\\n",
       "0               1      573      M     87000          56  581.03  02/01/20   \n",
       "1               2      737      F     34000          51  421.73  02/01/20   \n",
       "\n",
       "   hora                                        dispositivo  \\\n",
       "0     0  {'año': 2019, 'marca': 'Apple', 'proveedor': '...   \n",
       "1     0  {'año': 2021, 'marca': 'Huawei', 'proveedor': ...   \n",
       "\n",
       "        establecimiento            ciudad status_txn  is_prime  dcto  \\\n",
       "0              Farmacia  Ciudad de México   Aceptada     False   0.0   \n",
       "1  Tienda departamental            Cancún   Aceptada     False   0.0   \n",
       "\n",
       "   cashback  fraude  \n",
       "0     17.43   False  \n",
       "1     12.65   False  "
      ]
     },
     "metadata": {},
     "output_type": "display_data"
    },
    {
     "name": "stdout",
     "output_type": "stream",
     "text": [
      "(26975, 16)\n"
     ]
    }
   ],
   "source": [
    "df=df_orig.copy()\n",
    "display(df.head(2))\n",
    "print(df.shape)"
   ]
  },
  {
   "cell_type": "code",
   "execution_count": 4,
   "id": "8ad7522a",
   "metadata": {},
   "outputs": [],
   "source": [
    "X=df[['user_id', 'monto', 'hora', 'establecimiento', 'ciudad', 'dispositivo']]\n",
    "y=df.fraude"
   ]
  },
  {
   "cell_type": "code",
   "execution_count": 5,
   "id": "e908ab64",
   "metadata": {},
   "outputs": [],
   "source": [
    "from sklearn.model_selection import train_test_split"
   ]
  },
  {
   "cell_type": "markdown",
   "id": "9155ff1f",
   "metadata": {},
   "source": [
    "Antes de balancear los datos, dividimos el set con el fin no afectar al conjunto de prueba"
   ]
  },
  {
   "cell_type": "code",
   "execution_count": 28,
   "id": "f61cd31a",
   "metadata": {},
   "outputs": [],
   "source": [
    "X_train,X_test,y_train,y_test=train_test_split(X,y,test_size=.2,random_state=1)\n",
    "\n",
    "X_train.reset_index(drop=True, inplace=True)\n",
    "y_train.reset_index(drop=True, inplace=True)\n",
    "X_test.reset_index(drop=True, inplace=True)\n",
    "y_test.reset_index(drop=True, inplace=True)"
   ]
  },
  {
   "cell_type": "code",
   "execution_count": 133,
   "id": "ace1a024",
   "metadata": {},
   "outputs": [],
   "source": [
    "# del str"
   ]
  },
  {
   "cell_type": "code",
   "execution_count": 29,
   "id": "d5ff04ee",
   "metadata": {},
   "outputs": [
    {
     "name": "stdout",
     "output_type": "stream",
     "text": [
      "El conjunto de entrenamiento cuenta con 21580 muestras, de las cuales 654 son fraudes, es decir, el 3%.\n"
     ]
    }
   ],
   "source": [
    "print(\"El conjunto de entrenamiento cuenta con \" +  str(len(y_train)) + \" muestras, de las cuales \"+ str((y_train.sum())) + \n",
    "      \" son fraudes, es decir, el \" + str(int(((y_train.sum())/len(y_train))*100))+\"%.\")"
   ]
  },
  {
   "cell_type": "code",
   "execution_count": 30,
   "id": "ecefac7e",
   "metadata": {},
   "outputs": [
    {
     "name": "stdout",
     "output_type": "stream",
     "text": [
      "El conjunto de prueba cuenta con 5395 muestras, de las cuales 156 son fraudes, es decir, el 2%.\n"
     ]
    }
   ],
   "source": [
    "print(\"El conjunto de prueba cuenta con \" +  str(len(y_test)) + \" muestras, de las cuales \"+ str((y_test.sum())) + \n",
    "      \" son fraudes, es decir, el \" + str(int(((y_test.sum())/len(y_test))*100))+\"%.\")"
   ]
  },
  {
   "cell_type": "markdown",
   "id": "a39c767b",
   "metadata": {},
   "source": [
    "#### Procedemos a generar las variables extras que necesitamos"
   ]
  },
  {
   "cell_type": "code",
   "execution_count": 9,
   "id": "536fc5c2",
   "metadata": {},
   "outputs": [],
   "source": [
    "#convertir diccionario a variables\n",
    "def dictovar(dfx2):\n",
    "    dfx=dfx2.copy()\n",
    "    anio=[]\n",
    "    marca=[]\n",
    "    proveedor=[]\n",
    "    for i in range(len(dfx)):\n",
    "        str=dfx.dispositivo[i]\n",
    "        dic = ast.literal_eval(str) \n",
    "        anio += [dic['año']]\n",
    "        marca += [dic['marca']]\n",
    "        proveedor += [dic['proveedor']]\n",
    "    dfx[\"Disp_Año\"]=anio\n",
    "    dfx[\"Disp_Marca\"]=marca\n",
    "    dfx[\"Disp_Proveedor\"]=proveedor\n",
    "    return dfx"
   ]
  },
  {
   "cell_type": "code",
   "execution_count": 31,
   "id": "f902c153",
   "metadata": {
    "scrolled": true
   },
   "outputs": [],
   "source": [
    "X_train=dictovar(X_train)"
   ]
  },
  {
   "cell_type": "code",
   "execution_count": 11,
   "id": "4e45a04b",
   "metadata": {},
   "outputs": [],
   "source": [
    "#agregar variable nueva\n",
    "def newvar(dfx, yx):\n",
    "    dfxy1=dfx.reset_index()\n",
    "    yx1=yx.reset_index()\n",
    "    dfxy1=dfxy1.merge(yx1, how=\"left\", on = \"index\")\n",
    "    dfx_no_fraude=dfx[dfxy1.fraude==False]\n",
    "    \n",
    "    dfx_m=dfx_no_fraude[['user_id', 'monto']].groupby(['user_id']).mean().reset_index()\n",
    "    \n",
    "    dfxout=dfxy1.merge(dfx_m, how=\"left\", on = \"user_id\", suffixes=('', '_calc'))\n",
    "    dfxout['monto_calc']=dfxout['monto_calc'].fillna(dfxout['monto'])\n",
    "    dfxout['ge_monto']=dfxout.monto_calc<dfxout.monto\n",
    "    dfxout = dfxout.drop(['dispositivo', 'user_id', 'Disp_Proveedor', 'monto_calc', 'fraude', 'index'], axis=1)\n",
    "    return dfxout, dfx_m\n",
    "    "
   ]
  },
  {
   "cell_type": "code",
   "execution_count": 12,
   "id": "3578c212",
   "metadata": {},
   "outputs": [],
   "source": [
    "#variable nueva para test\n",
    "\n",
    "def newvar_test(dfxy1, dfx_m2):\n",
    "    \n",
    "    dfxout=dfxy1.merge(dfx_m2, how=\"left\", on = \"user_id\", suffixes=('', '_calc'))\n",
    "    dfxout['monto_calc']=dfxout['monto_calc'].fillna(dfxout['monto'])\n",
    "    dfxout['ge_monto']=dfxout.monto_calc<dfxout.monto\n",
    "    dfxout = dfxout.drop(['dispositivo', 'user_id', 'Disp_Proveedor', 'monto_calc'], axis=1)\n",
    "    return dfxout"
   ]
  },
  {
   "cell_type": "code",
   "execution_count": 32,
   "id": "bab6fe5c",
   "metadata": {
    "scrolled": true
   },
   "outputs": [],
   "source": [
    "X_train, X_mean=newvar(X_train, y_train)"
   ]
  },
  {
   "cell_type": "code",
   "execution_count": 33,
   "id": "307c2d21",
   "metadata": {},
   "outputs": [
    {
     "data": {
      "text/html": [
       "<div>\n",
       "<style scoped>\n",
       "    .dataframe tbody tr th:only-of-type {\n",
       "        vertical-align: middle;\n",
       "    }\n",
       "\n",
       "    .dataframe tbody tr th {\n",
       "        vertical-align: top;\n",
       "    }\n",
       "\n",
       "    .dataframe thead th {\n",
       "        text-align: right;\n",
       "    }\n",
       "</style>\n",
       "<table border=\"1\" class=\"dataframe\">\n",
       "  <thead>\n",
       "    <tr style=\"text-align: right;\">\n",
       "      <th></th>\n",
       "      <th>user_id</th>\n",
       "      <th>monto</th>\n",
       "    </tr>\n",
       "  </thead>\n",
       "  <tbody>\n",
       "    <tr>\n",
       "      <th>0</th>\n",
       "      <td>0</td>\n",
       "      <td>285.760</td>\n",
       "    </tr>\n",
       "    <tr>\n",
       "      <th>1</th>\n",
       "      <td>1</td>\n",
       "      <td>778.606</td>\n",
       "    </tr>\n",
       "  </tbody>\n",
       "</table>\n",
       "</div>"
      ],
      "text/plain": [
       "   user_id    monto\n",
       "0        0  285.760\n",
       "1        1  778.606"
      ]
     },
     "execution_count": 33,
     "metadata": {},
     "output_type": "execute_result"
    }
   ],
   "source": [
    "X_mean.head(2)"
   ]
  },
  {
   "cell_type": "code",
   "execution_count": 34,
   "id": "68cf01a8",
   "metadata": {
    "scrolled": true
   },
   "outputs": [
    {
     "data": {
      "text/html": [
       "<div>\n",
       "<style scoped>\n",
       "    .dataframe tbody tr th:only-of-type {\n",
       "        vertical-align: middle;\n",
       "    }\n",
       "\n",
       "    .dataframe tbody tr th {\n",
       "        vertical-align: top;\n",
       "    }\n",
       "\n",
       "    .dataframe thead th {\n",
       "        text-align: right;\n",
       "    }\n",
       "</style>\n",
       "<table border=\"1\" class=\"dataframe\">\n",
       "  <thead>\n",
       "    <tr style=\"text-align: right;\">\n",
       "      <th></th>\n",
       "      <th>monto</th>\n",
       "      <th>hora</th>\n",
       "      <th>establecimiento</th>\n",
       "      <th>ciudad</th>\n",
       "      <th>Disp_Año</th>\n",
       "      <th>Disp_Marca</th>\n",
       "      <th>ge_monto</th>\n",
       "    </tr>\n",
       "  </thead>\n",
       "  <tbody>\n",
       "    <tr>\n",
       "      <th>0</th>\n",
       "      <td>571.31</td>\n",
       "      <td>12</td>\n",
       "      <td>Abarrotes</td>\n",
       "      <td>Nezahualcóyotl</td>\n",
       "      <td>2017</td>\n",
       "      <td>Samsung</td>\n",
       "      <td>True</td>\n",
       "    </tr>\n",
       "    <tr>\n",
       "      <th>1</th>\n",
       "      <td>160.14</td>\n",
       "      <td>18</td>\n",
       "      <td>Supermercado</td>\n",
       "      <td>Guadalajara</td>\n",
       "      <td>2021</td>\n",
       "      <td>Apple</td>\n",
       "      <td>False</td>\n",
       "    </tr>\n",
       "    <tr>\n",
       "      <th>2</th>\n",
       "      <td>193.53</td>\n",
       "      <td>5</td>\n",
       "      <td>Compra en línea</td>\n",
       "      <td>Guadalajara</td>\n",
       "      <td>2020</td>\n",
       "      <td>Samsung</td>\n",
       "      <td>False</td>\n",
       "    </tr>\n",
       "    <tr>\n",
       "      <th>3</th>\n",
       "      <td>46.58</td>\n",
       "      <td>16</td>\n",
       "      <td>Tienda departamental</td>\n",
       "      <td>Guadalajara</td>\n",
       "      <td>2019</td>\n",
       "      <td>Huawei</td>\n",
       "      <td>False</td>\n",
       "    </tr>\n",
       "    <tr>\n",
       "      <th>4</th>\n",
       "      <td>380.04</td>\n",
       "      <td>13</td>\n",
       "      <td>Abarrotes</td>\n",
       "      <td>Monterrey</td>\n",
       "      <td>2020</td>\n",
       "      <td>Motorola</td>\n",
       "      <td>False</td>\n",
       "    </tr>\n",
       "  </tbody>\n",
       "</table>\n",
       "</div>"
      ],
      "text/plain": [
       "    monto  hora       establecimiento          ciudad  Disp_Año Disp_Marca  \\\n",
       "0  571.31    12             Abarrotes  Nezahualcóyotl      2017    Samsung   \n",
       "1  160.14    18          Supermercado     Guadalajara      2021      Apple   \n",
       "2  193.53     5       Compra en línea     Guadalajara      2020    Samsung   \n",
       "3   46.58    16  Tienda departamental     Guadalajara      2019     Huawei   \n",
       "4  380.04    13             Abarrotes       Monterrey      2020   Motorola   \n",
       "\n",
       "   ge_monto  \n",
       "0      True  \n",
       "1     False  \n",
       "2     False  \n",
       "3     False  \n",
       "4     False  "
      ]
     },
     "metadata": {},
     "output_type": "display_data"
    },
    {
     "data": {
      "text/plain": [
       "(21580, 7)"
      ]
     },
     "execution_count": 34,
     "metadata": {},
     "output_type": "execute_result"
    }
   ],
   "source": [
    "display(X_train.head(5))\n",
    "X_train.shape"
   ]
  },
  {
   "cell_type": "code",
   "execution_count": 35,
   "id": "c468d5ed",
   "metadata": {},
   "outputs": [
    {
     "name": "stdout",
     "output_type": "stream",
     "text": [
      "<class 'pandas.core.frame.DataFrame'>\n",
      "Int64Index: 21580 entries, 0 to 21579\n",
      "Data columns (total 7 columns):\n",
      " #   Column           Non-Null Count  Dtype  \n",
      "---  ------           --------------  -----  \n",
      " 0   monto            21580 non-null  float64\n",
      " 1   hora             21580 non-null  int64  \n",
      " 2   establecimiento  19223 non-null  object \n",
      " 3   ciudad           21311 non-null  object \n",
      " 4   Disp_Año         21580 non-null  int64  \n",
      " 5   Disp_Marca       21580 non-null  object \n",
      " 6   ge_monto         21580 non-null  bool   \n",
      "dtypes: bool(1), float64(1), int64(2), object(3)\n",
      "memory usage: 1.2+ MB\n"
     ]
    }
   ],
   "source": [
    "X_train.info()"
   ]
  },
  {
   "cell_type": "code",
   "execution_count": 17,
   "id": "50004bae",
   "metadata": {},
   "outputs": [],
   "source": [
    "#llenar vacios\n",
    "def vacios(dfx):\n",
    "    dfx3=dfx.copy()\n",
    "    dfx3.loc[dfx3.establecimiento.isnull(), \"establecimiento\"]=\"Otro\"\n",
    "    dfx3.loc[dfx3.ciudad.isnull(), \"ciudad\"]=\"Otro\"\n",
    "    return dfx3"
   ]
  },
  {
   "cell_type": "code",
   "execution_count": 36,
   "id": "71f9167e",
   "metadata": {},
   "outputs": [],
   "source": [
    "X_train=vacios(X_train)#.info()"
   ]
  },
  {
   "cell_type": "code",
   "execution_count": null,
   "id": "be200a31",
   "metadata": {},
   "outputs": [],
   "source": [
    "# 'monto', 'hora', 'establecimiento', 'ciudad', 'dispositivo'"
   ]
  },
  {
   "cell_type": "markdown",
   "id": "6cb63367",
   "metadata": {},
   "source": [
    "##### Discretas a dummies"
   ]
  },
  {
   "cell_type": "code",
   "execution_count": 37,
   "id": "45939466",
   "metadata": {
    "scrolled": true
   },
   "outputs": [
    {
     "data": {
      "text/html": [
       "<div>\n",
       "<style scoped>\n",
       "    .dataframe tbody tr th:only-of-type {\n",
       "        vertical-align: middle;\n",
       "    }\n",
       "\n",
       "    .dataframe tbody tr th {\n",
       "        vertical-align: top;\n",
       "    }\n",
       "\n",
       "    .dataframe thead th {\n",
       "        text-align: right;\n",
       "    }\n",
       "</style>\n",
       "<table border=\"1\" class=\"dataframe\">\n",
       "  <thead>\n",
       "    <tr style=\"text-align: right;\">\n",
       "      <th></th>\n",
       "      <th>monto</th>\n",
       "      <th>hora</th>\n",
       "      <th>establecimiento</th>\n",
       "      <th>ciudad</th>\n",
       "      <th>Disp_Año</th>\n",
       "      <th>Disp_Marca</th>\n",
       "      <th>ge_monto</th>\n",
       "    </tr>\n",
       "  </thead>\n",
       "  <tbody>\n",
       "    <tr>\n",
       "      <th>0</th>\n",
       "      <td>571.31</td>\n",
       "      <td>12</td>\n",
       "      <td>Abarrotes</td>\n",
       "      <td>Nezahualcóyotl</td>\n",
       "      <td>2017</td>\n",
       "      <td>Samsung</td>\n",
       "      <td>True</td>\n",
       "    </tr>\n",
       "  </tbody>\n",
       "</table>\n",
       "</div>"
      ],
      "text/plain": [
       "    monto  hora establecimiento          ciudad  Disp_Año Disp_Marca  ge_monto\n",
       "0  571.31    12       Abarrotes  Nezahualcóyotl      2017    Samsung      True"
      ]
     },
     "execution_count": 37,
     "metadata": {},
     "output_type": "execute_result"
    }
   ],
   "source": [
    "X_train.head(1)"
   ]
  },
  {
   "cell_type": "code",
   "execution_count": 38,
   "id": "c91c10bd",
   "metadata": {},
   "outputs": [
    {
     "name": "stdout",
     "output_type": "stream",
     "text": [
      "Index(['Abarrotes', 'Compra en línea', 'Farmacia', 'Otro', 'Supermercado',\n",
      "       'Tienda departamental'],\n",
      "      dtype='object')\n",
      "Index(['Cancún', 'Ciudad de México', 'Guadalajara', 'Monterrey',\n",
      "       'Nezahualcóyotl', 'Otro', 'Tijuana', 'Toluca'],\n",
      "      dtype='object')\n",
      "Index(['Apple', 'Huawei', 'Motorola', 'Samsung'], dtype='object')\n"
     ]
    }
   ],
   "source": [
    "est_dum = pd.get_dummies(X_train.establecimiento)\n",
    "cid_dum = pd.get_dummies(X_train.ciudad)\n",
    "marc_dum = pd.get_dummies(X_train.Disp_Marca)\n",
    "\n",
    "print(est_dum.columns)\n",
    "print(cid_dum.columns)\n",
    "print(marc_dum.columns)"
   ]
  },
  {
   "cell_type": "code",
   "execution_count": 39,
   "id": "46ca9787",
   "metadata": {},
   "outputs": [],
   "source": [
    "X_train=pd.concat([X_train[['monto', 'hora', 'Disp_Año', 'ge_monto']], \n",
    "           est_dum[['Compra en línea', 'Tienda departamental']], \n",
    "           cid_dum[['Cancún', 'Ciudad de México', 'Monterrey', 'Tijuana']],\n",
    "           marc_dum[['Motorola', 'Samsung']]], axis=1)"
   ]
  },
  {
   "cell_type": "markdown",
   "id": "8755f749",
   "metadata": {},
   "source": [
    "### Después de varias prueba en la función \"discre\" se dejan las variables que otorgaron mejores resultados para el modelo"
   ]
  },
  {
   "cell_type": "code",
   "execution_count": 40,
   "id": "129a7398",
   "metadata": {},
   "outputs": [],
   "source": [
    "def discre(dfxx):\n",
    "    dfxx2=dfxx.copy()\n",
    "    dfxx2['Discretas']=dfxx2['Compra en línea'] + dfxx2['Tienda departamental'] + dfxx2['Cancún'] + dfxx2['Ciudad de México'] + dfxx2.Monterrey + dfxx2.Tijuana + dfxx2.Motorola + dfxx2.Samsung\n",
    "    dfxx2=dfxx2[['monto', 'hora', 'Disp_Año']]\n",
    "    return dfxx2"
   ]
  },
  {
   "cell_type": "code",
   "execution_count": 41,
   "id": "0383768f",
   "metadata": {},
   "outputs": [],
   "source": [
    "X_train=discre(X_train)"
   ]
  },
  {
   "cell_type": "code",
   "execution_count": 42,
   "id": "e785e2fc",
   "metadata": {},
   "outputs": [
    {
     "data": {
      "text/plain": [
       "(21580, 3)"
      ]
     },
     "execution_count": 42,
     "metadata": {},
     "output_type": "execute_result"
    }
   ],
   "source": [
    "X_train.shape"
   ]
  },
  {
   "cell_type": "markdown",
   "id": "076abc04",
   "metadata": {},
   "source": [
    "### Utilizamos el siguiente método con el fin de igualar el número de observaciones"
   ]
  },
  {
   "cell_type": "code",
   "execution_count": 22,
   "id": "c5c8a50b",
   "metadata": {
    "scrolled": true
   },
   "outputs": [],
   "source": [
    "# from imblearn.over_sampling import RandomOverSampler"
   ]
  },
  {
   "cell_type": "code",
   "execution_count": 43,
   "id": "6c53149b",
   "metadata": {
    "scrolled": true
   },
   "outputs": [],
   "source": [
    "from imblearn.over_sampling import SMOTE"
   ]
  },
  {
   "cell_type": "code",
   "execution_count": 44,
   "id": "2ca5a80a",
   "metadata": {
    "scrolled": true
   },
   "outputs": [],
   "source": [
    "# from imblearn.under_sampling import RandomUnderSampler\n",
    "import seaborn as sns\n",
    "import matplotlib.pyplot as plt"
   ]
  },
  {
   "cell_type": "code",
   "execution_count": 45,
   "id": "2c5f986c",
   "metadata": {},
   "outputs": [],
   "source": [
    "smote = SMOTE(sampling_strategy='minority')"
   ]
  },
  {
   "cell_type": "code",
   "execution_count": 46,
   "id": "c4962b85",
   "metadata": {},
   "outputs": [
    {
     "data": {
      "text/plain": [
       "SMOTE(sampling_strategy='minority')"
      ]
     },
     "execution_count": 46,
     "metadata": {},
     "output_type": "execute_result"
    }
   ],
   "source": [
    "smote"
   ]
  },
  {
   "cell_type": "code",
   "execution_count": 47,
   "id": "070b8885",
   "metadata": {
    "scrolled": true
   },
   "outputs": [],
   "source": [
    "X_train, y_train = smote.fit_resample(X_train, y_train)"
   ]
  },
  {
   "cell_type": "code",
   "execution_count": 48,
   "id": "f0ea46c3",
   "metadata": {},
   "outputs": [
    {
     "name": "stderr",
     "output_type": "stream",
     "text": [
      "/home/abramhz/Documentos/Modulo_1/Modulo_1/lib/python3.8/site-packages/seaborn/_decorators.py:36: FutureWarning: Pass the following variables as keyword args: x, y. From version 0.12, the only valid positional argument will be `data`, and passing other arguments without an explicit keyword will result in an error or misinterpretation.\n",
      "  warnings.warn(\n"
     ]
    },
    {
     "data": {
      "text/plain": [
       "Text(0.5, 1.0, 'Target variable count')"
      ]
     },
     "execution_count": 48,
     "metadata": {},
     "output_type": "execute_result"
    },
    {
     "data": {
      "image/png": "[encoded data removed]",
      "text/plain": [
       "<Figure size 432x288 with 1 Axes>"
      ]
     },
     "metadata": {
      "needs_background": "light"
     },
     "output_type": "display_data"
    }
   ],
   "source": [
    "x=y_train.value_counts().values\n",
    "sns.barplot([0,1],x)\n",
    "plt.title('Target variable count')"
   ]
  },
  {
   "cell_type": "markdown",
   "id": "4ab5670f",
   "metadata": {},
   "source": [
    "## Prueba\n",
    "\n",
    "### Ajustes"
   ]
  },
  {
   "cell_type": "code",
   "execution_count": 49,
   "id": "4ef55720",
   "metadata": {},
   "outputs": [
    {
     "data": {
      "text/html": [
       "<div>\n",
       "<style scoped>\n",
       "    .dataframe tbody tr th:only-of-type {\n",
       "        vertical-align: middle;\n",
       "    }\n",
       "\n",
       "    .dataframe tbody tr th {\n",
       "        vertical-align: top;\n",
       "    }\n",
       "\n",
       "    .dataframe thead th {\n",
       "        text-align: right;\n",
       "    }\n",
       "</style>\n",
       "<table border=\"1\" class=\"dataframe\">\n",
       "  <thead>\n",
       "    <tr style=\"text-align: right;\">\n",
       "      <th></th>\n",
       "      <th>user_id</th>\n",
       "      <th>monto</th>\n",
       "      <th>hora</th>\n",
       "      <th>establecimiento</th>\n",
       "      <th>ciudad</th>\n",
       "      <th>dispositivo</th>\n",
       "    </tr>\n",
       "  </thead>\n",
       "  <tbody>\n",
       "    <tr>\n",
       "      <th>0</th>\n",
       "      <td>2814</td>\n",
       "      <td>891.37</td>\n",
       "      <td>1</td>\n",
       "      <td>Compra en línea</td>\n",
       "      <td>Monterrey</td>\n",
       "      <td>{'año': 2020, 'marca': 'Samsung', 'proveedor':...</td>\n",
       "    </tr>\n",
       "    <tr>\n",
       "      <th>1</th>\n",
       "      <td>1255</td>\n",
       "      <td>534.83</td>\n",
       "      <td>22</td>\n",
       "      <td>Supermercado</td>\n",
       "      <td>Ciudad de México</td>\n",
       "      <td>{'año': 2019, 'marca': 'Samsung', 'proveedor':...</td>\n",
       "    </tr>\n",
       "    <tr>\n",
       "      <th>2</th>\n",
       "      <td>540</td>\n",
       "      <td>461.47</td>\n",
       "      <td>11</td>\n",
       "      <td>Supermercado</td>\n",
       "      <td>Ciudad de México</td>\n",
       "      <td>{'año': 2020, 'marca': 'Apple', 'proveedor': '...</td>\n",
       "    </tr>\n",
       "  </tbody>\n",
       "</table>\n",
       "</div>"
      ],
      "text/plain": [
       "   user_id   monto  hora  establecimiento            ciudad  \\\n",
       "0     2814  891.37     1  Compra en línea         Monterrey   \n",
       "1     1255  534.83    22     Supermercado  Ciudad de México   \n",
       "2      540  461.47    11     Supermercado  Ciudad de México   \n",
       "\n",
       "                                         dispositivo  \n",
       "0  {'año': 2020, 'marca': 'Samsung', 'proveedor':...  \n",
       "1  {'año': 2019, 'marca': 'Samsung', 'proveedor':...  \n",
       "2  {'año': 2020, 'marca': 'Apple', 'proveedor': '...  "
      ]
     },
     "metadata": {},
     "output_type": "display_data"
    },
    {
     "name": "stdout",
     "output_type": "stream",
     "text": [
      "(5395, 6)\n"
     ]
    },
    {
     "data": {
      "text/plain": [
       "0    False\n",
       "1    False\n",
       "2    False\n",
       "Name: fraude, dtype: bool"
      ]
     },
     "metadata": {},
     "output_type": "display_data"
    },
    {
     "name": "stdout",
     "output_type": "stream",
     "text": [
      "(5395,)\n"
     ]
    }
   ],
   "source": [
    "display(X_test.head(3))\n",
    "print(X_test.shape)\n",
    "display(y_test.head(3))\n",
    "print(y_test.shape)"
   ]
  },
  {
   "cell_type": "code",
   "execution_count": 50,
   "id": "5d8f89f1",
   "metadata": {},
   "outputs": [],
   "source": [
    "# Diccionario a variables\n",
    "X_test=dictovar(X_test)"
   ]
  },
  {
   "cell_type": "code",
   "execution_count": 51,
   "id": "7a4bd924",
   "metadata": {},
   "outputs": [],
   "source": [
    "#new_variable\n",
    "X_test=newvar_test(X_test, X_mean)"
   ]
  },
  {
   "cell_type": "code",
   "execution_count": 52,
   "id": "324da6fd",
   "metadata": {},
   "outputs": [],
   "source": [
    "# Vacios\n",
    "X_test=vacios(X_test)#.info()"
   ]
  },
  {
   "cell_type": "code",
   "execution_count": 53,
   "id": "a5898538",
   "metadata": {},
   "outputs": [],
   "source": [
    "est_dum = pd.get_dummies(X_test.establecimiento)\n",
    "cid_dum = pd.get_dummies(X_test.ciudad)\n",
    "marc_dum = pd.get_dummies(X_test.Disp_Marca)\n",
    "\n",
    "# print(est_dum.columns)\n",
    "# print(cid_dum.columns)\n",
    "# print(marc_dum.columns)"
   ]
  },
  {
   "cell_type": "code",
   "execution_count": 54,
   "id": "ccca5025",
   "metadata": {},
   "outputs": [
    {
     "data": {
      "text/html": [
       "<div>\n",
       "<style scoped>\n",
       "    .dataframe tbody tr th:only-of-type {\n",
       "        vertical-align: middle;\n",
       "    }\n",
       "\n",
       "    .dataframe tbody tr th {\n",
       "        vertical-align: top;\n",
       "    }\n",
       "\n",
       "    .dataframe thead th {\n",
       "        text-align: right;\n",
       "    }\n",
       "</style>\n",
       "<table border=\"1\" class=\"dataframe\">\n",
       "  <thead>\n",
       "    <tr style=\"text-align: right;\">\n",
       "      <th></th>\n",
       "      <th>monto</th>\n",
       "      <th>hora</th>\n",
       "      <th>Disp_Año</th>\n",
       "      <th>ge_monto</th>\n",
       "      <th>Compra en línea</th>\n",
       "      <th>Tienda departamental</th>\n",
       "      <th>Cancún</th>\n",
       "      <th>Ciudad de México</th>\n",
       "      <th>Monterrey</th>\n",
       "      <th>Tijuana</th>\n",
       "      <th>Motorola</th>\n",
       "      <th>Samsung</th>\n",
       "    </tr>\n",
       "  </thead>\n",
       "  <tbody>\n",
       "    <tr>\n",
       "      <th>0</th>\n",
       "      <td>891.37</td>\n",
       "      <td>1</td>\n",
       "      <td>2020</td>\n",
       "      <td>True</td>\n",
       "      <td>1</td>\n",
       "      <td>0</td>\n",
       "      <td>0</td>\n",
       "      <td>0</td>\n",
       "      <td>1</td>\n",
       "      <td>0</td>\n",
       "      <td>0</td>\n",
       "      <td>1</td>\n",
       "    </tr>\n",
       "    <tr>\n",
       "      <th>1</th>\n",
       "      <td>534.83</td>\n",
       "      <td>22</td>\n",
       "      <td>2019</td>\n",
       "      <td>True</td>\n",
       "      <td>0</td>\n",
       "      <td>0</td>\n",
       "      <td>0</td>\n",
       "      <td>1</td>\n",
       "      <td>0</td>\n",
       "      <td>0</td>\n",
       "      <td>0</td>\n",
       "      <td>1</td>\n",
       "    </tr>\n",
       "    <tr>\n",
       "      <th>2</th>\n",
       "      <td>461.47</td>\n",
       "      <td>11</td>\n",
       "      <td>2020</td>\n",
       "      <td>False</td>\n",
       "      <td>0</td>\n",
       "      <td>0</td>\n",
       "      <td>0</td>\n",
       "      <td>1</td>\n",
       "      <td>0</td>\n",
       "      <td>0</td>\n",
       "      <td>0</td>\n",
       "      <td>0</td>\n",
       "    </tr>\n",
       "  </tbody>\n",
       "</table>\n",
       "</div>"
      ],
      "text/plain": [
       "    monto  hora  Disp_Año  ge_monto  Compra en línea  Tienda departamental  \\\n",
       "0  891.37     1      2020      True                1                     0   \n",
       "1  534.83    22      2019      True                0                     0   \n",
       "2  461.47    11      2020     False                0                     0   \n",
       "\n",
       "   Cancún  Ciudad de México  Monterrey  Tijuana  Motorola  Samsung  \n",
       "0       0                 0          1        0         0        1  \n",
       "1       0                 1          0        0         0        1  \n",
       "2       0                 1          0        0         0        0  "
      ]
     },
     "execution_count": 54,
     "metadata": {},
     "output_type": "execute_result"
    }
   ],
   "source": [
    "X_test=pd.concat([X_test[['monto', 'hora', 'Disp_Año', 'ge_monto']], \n",
    "           est_dum[['Compra en línea', 'Tienda departamental']], \n",
    "           cid_dum[['Cancún', 'Ciudad de México', 'Monterrey', 'Tijuana']],\n",
    "           marc_dum[['Motorola', 'Samsung']]], axis=1)\n",
    "X_test.head(3)"
   ]
  },
  {
   "cell_type": "code",
   "execution_count": 55,
   "id": "b38e9063",
   "metadata": {},
   "outputs": [],
   "source": [
    "X_test=discre(X_test)"
   ]
  },
  {
   "cell_type": "code",
   "execution_count": 56,
   "id": "931f8bca",
   "metadata": {},
   "outputs": [
    {
     "data": {
      "text/plain": [
       "(5395, 3)"
      ]
     },
     "execution_count": 56,
     "metadata": {},
     "output_type": "execute_result"
    }
   ],
   "source": [
    "X_test.shape"
   ]
  },
  {
   "cell_type": "markdown",
   "id": "5084f62e",
   "metadata": {},
   "source": [
    "#### Prueba Modelo"
   ]
  },
  {
   "cell_type": "code",
   "execution_count": 57,
   "id": "cac6c9a6",
   "metadata": {},
   "outputs": [],
   "source": [
    "from sklearn.preprocessing import StandardScaler"
   ]
  },
  {
   "cell_type": "code",
   "execution_count": 58,
   "id": "52f4822e",
   "metadata": {},
   "outputs": [],
   "source": [
    "sc = StandardScaler()\n",
    "X_train = sc.fit_transform(X_train)\n",
    "X_test = sc.transform(X_test)"
   ]
  },
  {
   "cell_type": "code",
   "execution_count": 59,
   "id": "0571dedf",
   "metadata": {},
   "outputs": [],
   "source": [
    "# from sklearn.tree import DecisionTreeClassifier\n",
    "from sklearn.svm import SVC\n",
    "from sklearn.ensemble import RandomForestClassifier\n",
    "from xgboost.sklearn import XGBClassifier\n",
    "\n",
    "from sklearn.metrics import classification_report,confusion_matrix,accuracy_score,precision_score,recall_score,f1_score"
   ]
  },
  {
   "cell_type": "code",
   "execution_count": 60,
   "id": "3ec3f6ac",
   "metadata": {},
   "outputs": [],
   "source": [
    "from sklearn.model_selection import cross_val_score, GridSearchCV"
   ]
  },
  {
   "cell_type": "markdown",
   "id": "5113df07",
   "metadata": {},
   "source": [
    "### SCV"
   ]
  },
  {
   "cell_type": "code",
   "execution_count": 61,
   "id": "82c20ff8",
   "metadata": {},
   "outputs": [],
   "source": [
    "svc = SVC()"
   ]
  },
  {
   "cell_type": "code",
   "execution_count": 161,
   "id": "d6204d8a",
   "metadata": {},
   "outputs": [],
   "source": [
    "# svc.get_params()"
   ]
  },
  {
   "cell_type": "code",
   "execution_count": 140,
   "id": "58332297",
   "metadata": {},
   "outputs": [],
   "source": [
    "param_grid={'kernel':['rbf', 'poly'] }"
   ]
  },
  {
   "cell_type": "code",
   "execution_count": 141,
   "id": "96558cef",
   "metadata": {},
   "outputs": [],
   "source": [
    "scv_class = GridSearchCV(cv=4, error_score=-1000, estimator=svc, n_jobs=-1, \n",
    "                  scoring=\"f1\", param_grid=param_grid, verbose=True)"
   ]
  },
  {
   "cell_type": "code",
   "execution_count": 142,
   "id": "d36a830d",
   "metadata": {},
   "outputs": [
    {
     "name": "stdout",
     "output_type": "stream",
     "text": [
      "Fitting 4 folds for each of 2 candidates, totalling 8 fits\n"
     ]
    },
    {
     "data": {
      "text/plain": [
       "GridSearchCV(cv=4, error_score=-1000, estimator=SVC(), n_jobs=-1,\n",
       "             param_grid={'kernel': ['rbf', 'poly']}, scoring='f1',\n",
       "             verbose=True)"
      ]
     },
     "execution_count": 142,
     "metadata": {},
     "output_type": "execute_result"
    }
   ],
   "source": [
    "scv_class.fit(X=X_train, y=y_train)"
   ]
  },
  {
   "cell_type": "code",
   "execution_count": 143,
   "id": "a57d6949",
   "metadata": {},
   "outputs": [
    {
     "data": {
      "text/plain": [
       "0.7673270448206407"
      ]
     },
     "execution_count": 143,
     "metadata": {},
     "output_type": "execute_result"
    }
   ],
   "source": [
    "scv_class.best_score_"
   ]
  },
  {
   "cell_type": "code",
   "execution_count": 144,
   "id": "991d88e5",
   "metadata": {},
   "outputs": [
    {
     "data": {
      "text/plain": [
       "{'kernel': 'rbf'}"
      ]
     },
     "execution_count": 144,
     "metadata": {},
     "output_type": "execute_result"
    }
   ],
   "source": [
    "scv_class.best_params_"
   ]
  },
  {
   "cell_type": "code",
   "execution_count": 62,
   "id": "452f5453",
   "metadata": {},
   "outputs": [
    {
     "data": {
      "text/plain": [
       "SVC()"
      ]
     },
     "execution_count": 62,
     "metadata": {},
     "output_type": "execute_result"
    }
   ],
   "source": [
    "scv1=SVC(kernel = 'rbf')\n",
    "scv1.fit(X_train,y_train)"
   ]
  },
  {
   "cell_type": "code",
   "execution_count": 63,
   "id": "6ebe7026",
   "metadata": {},
   "outputs": [
    {
     "name": "stdout",
     "output_type": "stream",
     "text": [
      "              precision    recall  f1-score   support\n",
      "\n",
      "       False       0.98      0.63      0.77      5239\n",
      "        True       0.05      0.65      0.09       156\n",
      "\n",
      "    accuracy                           0.63      5395\n",
      "   macro avg       0.52      0.64      0.43      5395\n",
      "weighted avg       0.96      0.63      0.75      5395\n",
      "\n"
     ]
    }
   ],
   "source": [
    "print(classification_report(y_test,scv1.predict(X_test)))"
   ]
  },
  {
   "cell_type": "code",
   "execution_count": 64,
   "id": "01abba9f",
   "metadata": {},
   "outputs": [
    {
     "data": {
      "text/plain": [
       "array([[ 101,   55],\n",
       "       [1919, 3320]])"
      ]
     },
     "execution_count": 64,
     "metadata": {},
     "output_type": "execute_result"
    }
   ],
   "source": [
    "confusion_matrix(y_pred=scv1.predict(X_test),y_true=y_test, labels=[True, False])"
   ]
  },
  {
   "cell_type": "markdown",
   "id": "e357d481",
   "metadata": {},
   "source": [
    "### Random Forest"
   ]
  },
  {
   "cell_type": "code",
   "execution_count": 56,
   "id": "83d1426e",
   "metadata": {},
   "outputs": [
    {
     "data": {
      "text/plain": [
       "RandomForestClassifier()"
      ]
     },
     "execution_count": 56,
     "metadata": {},
     "output_type": "execute_result"
    }
   ],
   "source": [
    "ranf1=RandomForestClassifier(class_weight= 'balanced')\n",
    "ranf1.fit(X_train,y_train)"
   ]
  },
  {
   "cell_type": "code",
   "execution_count": 57,
   "id": "f62f701e",
   "metadata": {},
   "outputs": [
    {
     "name": "stdout",
     "output_type": "stream",
     "text": [
      "              precision    recall  f1-score   support\n",
      "\n",
      "       False       0.97      0.86      0.91      5239\n",
      "        True       0.04      0.22      0.07       156\n",
      "\n",
      "    accuracy                           0.84      5395\n",
      "   macro avg       0.51      0.54      0.49      5395\n",
      "weighted avg       0.95      0.84      0.89      5395\n",
      "\n"
     ]
    }
   ],
   "source": [
    "print(classification_report(y_test,ranf1.predict(X_test)))"
   ]
  },
  {
   "cell_type": "code",
   "execution_count": 49,
   "id": "36f47bcd",
   "metadata": {},
   "outputs": [
    {
     "data": {
      "text/plain": [
       "array([[  35,  121],\n",
       "       [ 740, 4499]])"
      ]
     },
     "execution_count": 49,
     "metadata": {},
     "output_type": "execute_result"
    }
   ],
   "source": [
    "confusion_matrix(y_pred=ranf1.predict(X_test),y_true=y_test, labels=[True, False])"
   ]
  },
  {
   "cell_type": "markdown",
   "id": "5a8deae0",
   "metadata": {},
   "source": [
    "### XGBoost"
   ]
  },
  {
   "cell_type": "code",
   "execution_count": 65,
   "id": "3cc40016",
   "metadata": {},
   "outputs": [],
   "source": [
    "xgb=XGBClassifier()"
   ]
  },
  {
   "cell_type": "code",
   "execution_count": 66,
   "id": "78fbbf17",
   "metadata": {},
   "outputs": [
    {
     "data": {
      "text/plain": [
       "XGBClassifier(base_score=None, booster=None, callbacks=None,\n",
       "              colsample_bylevel=None, colsample_bynode=None,\n",
       "              colsample_bytree=None, device=None, early_stopping_rounds=None,\n",
       "              enable_categorical=False, eval_metric=None, feature_types=None,\n",
       "              gamma=None, grow_policy=None, importance_type=None,\n",
       "              interaction_constraints=None, learning_rate=None, max_bin=None,\n",
       "              max_cat_threshold=None, max_cat_to_onehot=None,\n",
       "              max_delta_step=None, max_depth=None, max_leaves=None,\n",
       "              min_child_weight=None, missing=nan, monotone_constraints=None,\n",
       "              multi_strategy=None, n_estimators=None, n_jobs=None,\n",
       "              num_parallel_tree=None, random_state=None, ...)"
      ]
     },
     "execution_count": 66,
     "metadata": {},
     "output_type": "execute_result"
    }
   ],
   "source": [
    "xgb.fit(X_train,y_train)"
   ]
  },
  {
   "cell_type": "code",
   "execution_count": 67,
   "id": "5eeb545b",
   "metadata": {},
   "outputs": [
    {
     "name": "stdout",
     "output_type": "stream",
     "text": [
      "              precision    recall  f1-score   support\n",
      "\n",
      "       False       0.98      0.79      0.87      5239\n",
      "        True       0.05      0.36      0.09       156\n",
      "\n",
      "    accuracy                           0.78      5395\n",
      "   macro avg       0.51      0.57      0.48      5395\n",
      "weighted avg       0.95      0.78      0.85      5395\n",
      "\n"
     ]
    }
   ],
   "source": [
    "print(classification_report(y_test,xgb.predict(X_test)))"
   ]
  },
  {
   "cell_type": "code",
   "execution_count": 69,
   "id": "a78976a1",
   "metadata": {},
   "outputs": [
    {
     "data": {
      "text/plain": [
       "array([[  56,  100],\n",
       "       [1095, 4144]])"
      ]
     },
     "execution_count": 69,
     "metadata": {},
     "output_type": "execute_result"
    }
   ],
   "source": [
    "confusion_matrix(y_pred=xgb.predict(X_test),y_true=y_test, labels=[True, False])"
   ]
  },
  {
   "cell_type": "markdown",
   "id": "204b0961",
   "metadata": {},
   "source": [
    "# Regresión Logística \"Modelo seleccionado\""
   ]
  },
  {
   "cell_type": "code",
   "execution_count": 70,
   "id": "35174e18",
   "metadata": {},
   "outputs": [
    {
     "data": {
      "text/plain": [
       "LogisticRegression(penalty='l1', solver='liblinear')"
      ]
     },
     "execution_count": 70,
     "metadata": {},
     "output_type": "execute_result"
    }
   ],
   "source": [
    "from sklearn.linear_model import LogisticRegression\n",
    "logistic1=LogisticRegression(solver='liblinear', penalty='l1')\n",
    "logistic1.fit(X_train,y_train)"
   ]
  },
  {
   "cell_type": "code",
   "execution_count": 71,
   "id": "40972036",
   "metadata": {},
   "outputs": [
    {
     "name": "stdout",
     "output_type": "stream",
     "text": [
      "              precision    recall  f1-score   support\n",
      "\n",
      "       False       0.98      0.68      0.80      5239\n",
      "        True       0.05      0.58      0.09       156\n",
      "\n",
      "    accuracy                           0.68      5395\n",
      "   macro avg       0.52      0.63      0.45      5395\n",
      "weighted avg       0.96      0.68      0.78      5395\n",
      "\n"
     ]
    }
   ],
   "source": [
    "print(classification_report(y_test,logistic1.predict(X_test)))"
   ]
  },
  {
   "cell_type": "code",
   "execution_count": null,
   "id": "6cc02677",
   "metadata": {},
   "outputs": [],
   "source": []
  },
  {
   "cell_type": "code",
   "execution_count": null,
   "id": "921f1bd3",
   "metadata": {},
   "outputs": [],
   "source": []
  },
  {
   "cell_type": "code",
   "execution_count": null,
   "id": "e2903461",
   "metadata": {},
   "outputs": [],
   "source": []
  },
  {
   "cell_type": "code",
   "execution_count": null,
   "id": "9e757a74",
   "metadata": {},
   "outputs": [],
   "source": []
  },
  {
   "cell_type": "markdown",
   "id": "459f92a9",
   "metadata": {},
   "source": [
    "# Anexos"
   ]
  },
  {
   "cell_type": "code",
   "execution_count": 20,
   "id": "2042d4e6",
   "metadata": {},
   "outputs": [
    {
     "data": {
      "text/html": [
       "<div>\n",
       "<style scoped>\n",
       "    .dataframe tbody tr th:only-of-type {\n",
       "        vertical-align: middle;\n",
       "    }\n",
       "\n",
       "    .dataframe tbody tr th {\n",
       "        vertical-align: top;\n",
       "    }\n",
       "\n",
       "    .dataframe thead th {\n",
       "        text-align: right;\n",
       "    }\n",
       "</style>\n",
       "<table border=\"1\" class=\"dataframe\">\n",
       "  <thead>\n",
       "    <tr style=\"text-align: right;\">\n",
       "      <th></th>\n",
       "      <th>user_id</th>\n",
       "      <th>establecimiento</th>\n",
       "      <th>fraude</th>\n",
       "    </tr>\n",
       "  </thead>\n",
       "  <tbody>\n",
       "    <tr>\n",
       "      <th>0</th>\n",
       "      <td>0</td>\n",
       "      <td>Tienda departamental</td>\n",
       "      <td>2</td>\n",
       "    </tr>\n",
       "    <tr>\n",
       "      <th>1</th>\n",
       "      <td>1</td>\n",
       "      <td>Compra en línea</td>\n",
       "      <td>2</td>\n",
       "    </tr>\n",
       "    <tr>\n",
       "      <th>2</th>\n",
       "      <td>1</td>\n",
       "      <td>Farmacia</td>\n",
       "      <td>2</td>\n",
       "    </tr>\n",
       "    <tr>\n",
       "      <th>3</th>\n",
       "      <td>1</td>\n",
       "      <td>Tienda departamental</td>\n",
       "      <td>3</td>\n",
       "    </tr>\n",
       "    <tr>\n",
       "      <th>4</th>\n",
       "      <td>2</td>\n",
       "      <td>Compra en línea</td>\n",
       "      <td>4</td>\n",
       "    </tr>\n",
       "    <tr>\n",
       "      <th>...</th>\n",
       "      <td>...</td>\n",
       "      <td>...</td>\n",
       "      <td>...</td>\n",
       "    </tr>\n",
       "    <tr>\n",
       "      <th>11307</th>\n",
       "      <td>3998</td>\n",
       "      <td>Abarrotes</td>\n",
       "      <td>3</td>\n",
       "    </tr>\n",
       "    <tr>\n",
       "      <th>11308</th>\n",
       "      <td>3998</td>\n",
       "      <td>Compra en línea</td>\n",
       "      <td>2</td>\n",
       "    </tr>\n",
       "    <tr>\n",
       "      <th>11309</th>\n",
       "      <td>3999</td>\n",
       "      <td>Compra en línea</td>\n",
       "      <td>1</td>\n",
       "    </tr>\n",
       "    <tr>\n",
       "      <th>11310</th>\n",
       "      <td>3999</td>\n",
       "      <td>Farmacia</td>\n",
       "      <td>2</td>\n",
       "    </tr>\n",
       "    <tr>\n",
       "      <th>11311</th>\n",
       "      <td>3999</td>\n",
       "      <td>Tienda departamental</td>\n",
       "      <td>1</td>\n",
       "    </tr>\n",
       "  </tbody>\n",
       "</table>\n",
       "<p>11312 rows × 3 columns</p>\n",
       "</div>"
      ],
      "text/plain": [
       "       user_id       establecimiento  fraude\n",
       "0            0  Tienda departamental       2\n",
       "1            1       Compra en línea       2\n",
       "2            1              Farmacia       2\n",
       "3            1  Tienda departamental       3\n",
       "4            2       Compra en línea       4\n",
       "...        ...                   ...     ...\n",
       "11307     3998             Abarrotes       3\n",
       "11308     3998       Compra en línea       2\n",
       "11309     3999       Compra en línea       1\n",
       "11310     3999              Farmacia       2\n",
       "11311     3999  Tienda departamental       1\n",
       "\n",
       "[11312 rows x 3 columns]"
      ]
     },
     "execution_count": 20,
     "metadata": {},
     "output_type": "execute_result"
    }
   ],
   "source": [
    "# podría considerarse si la persona ha visitado antes ese tipo de estableimiento\n",
    "df_no_fraude[['user_id', 'establecimiento', 'fraude']].groupby(['user_id', 'establecimiento']).count().reset_index()"
   ]
  },
  {
   "cell_type": "code",
   "execution_count": 45,
   "id": "2ca700d4",
   "metadata": {
    "scrolled": true
   },
   "outputs": [],
   "source": [
    "# user=list(df_no_fraude.user_id.value_counts().keys())\n",
    "# valor=list(df_no_fraude.user_id.value_counts().values)\n",
    "# df_us=pd.DataFrame()\n",
    "# df_us['user_id']=user\n",
    "# df_us['Txns_Mes']=valor\n",
    "# df_us"
   ]
  },
  {
   "cell_type": "code",
   "execution_count": 44,
   "id": "e38ed7e1",
   "metadata": {},
   "outputs": [],
   "source": [
    "ran=RandomUnderSampler()\n",
    "X_train, y_train= ran.fit_resample(X_train,y_train)"
   ]
  },
  {
   "cell_type": "code",
   "execution_count": 50,
   "id": "ff9fe7e5",
   "metadata": {},
   "outputs": [
    {
     "name": "stderr",
     "output_type": "stream",
     "text": [
      "/home/abramhz/Documentos/Modulo_1/Modulo_1/lib/python3.8/site-packages/seaborn/_decorators.py:36: FutureWarning: Pass the following variables as keyword args: x, y. From version 0.12, the only valid positional argument will be `data`, and passing other arguments without an explicit keyword will result in an error or misinterpretation.\n",
      "  warnings.warn(\n"
     ]
    },
    {
     "data": {
      "text/plain": [
       "Text(0.5, 1.0, 'Target variable count')"
      ]
     },
     "execution_count": 50,
     "metadata": {},
     "output_type": "execute_result"
    },
    {
     "data": {
      "image/png": "[encoded data removed]",
      "text/plain": [
       "<Figure size 432x288 with 1 Axes>"
      ]
     },
     "metadata": {
      "needs_background": "light"
     },
     "output_type": "display_data"
    }
   ],
   "source": [
    "x=y_train.value_counts().values\n",
    "sns.barplot([0,1],x)\n",
    "plt.title('Target variable count')"
   ]
  },
  {
   "cell_type": "code",
   "execution_count": 110,
   "id": "e877acfd",
   "metadata": {},
   "outputs": [],
   "source": [
    "from sklearn.preprocessing import LabelEncoder\n",
    "\n",
    "dfxx=X_train.copy()\n",
    "\n",
    "dict_encoder = {}\n",
    "for col in [\"establecimiento\", \"ciudad\", \"Disp_Marca\"]:\n",
    "    encoder = LabelEncoder()\n",
    "    encoder.fit_transform(list(dfxx[col].values))\n",
    "    dfxx[col] = encoder.transform(dfxx[col].values)\n",
    "    dict_encoder[col] = encoder "
   ]
  }
 ],
 "metadata": {
  "kernelspec": {
   "display_name": "Python 3 (ipykernel)",
   "language": "python",
   "name": "python3"
  },
  "language_info": {
   "codemirror_mode": {
    "name": "ipython",
    "version": 3
   },
   "file_extension": ".py",
   "mimetype": "text/x-python",
   "name": "python",
   "nbconvert_exporter": "python",
   "pygments_lexer": "ipython3",
   "version": "3.11.5"
  }
 },
 "nbformat": 4,
 "nbformat_minor": 5
}
